{
  "nbformat": 4,
  "nbformat_minor": 0,
  "metadata": {
    "colab": {
      "name": "aula21022022",
      "provenance": []
    },
    "kernelspec": {
      "name": "python3",
      "display_name": "Python 3"
    },
    "language_info": {
      "name": "python"
    }
  },
  "cells": [
    {
      "cell_type": "code",
      "execution_count": 1,
      "metadata": {
        "id": "G3IoHQLGW8_Y"
      },
      "outputs": [],
      "source": [
        "import pandas as pd\n",
        "from sklearn.model_selection import train_test_split\n",
        "from sklearn.preprocessing import LabelEncoder"
      ]
    },
    {
      "cell_type": "markdown",
      "source": [
        ""
      ],
      "metadata": {
        "id": "RcvpjejyXDyU"
      }
    },
    {
      "cell_type": "code",
      "source": [
        "df = pd.read_csv(\"iris.csv\")"
      ],
      "metadata": {
        "id": "ApfytkbcXED6"
      },
      "execution_count": 2,
      "outputs": []
    },
    {
      "cell_type": "code",
      "source": [
        "print(df.shape)"
      ],
      "metadata": {
        "colab": {
          "base_uri": "https://localhost:8080/"
        },
        "id": "D2WWuTeYpv7w",
        "outputId": "d73c8f52-8604-4eb8-cf45-09ab8145499d"
      },
      "execution_count": 3,
      "outputs": [
        {
          "output_type": "stream",
          "name": "stdout",
          "text": [
            "(150, 5)\n"
          ]
        }
      ]
    },
    {
      "cell_type": "code",
      "source": [
        "print(df.columns)"
      ],
      "metadata": {
        "colab": {
          "base_uri": "https://localhost:8080/"
        },
        "id": "iFhIhlzepvw4",
        "outputId": "186f6ca1-ed55-4717-c9d1-9f3a48dd55b5"
      },
      "execution_count": 4,
      "outputs": [
        {
          "output_type": "stream",
          "name": "stdout",
          "text": [
            "Index(['sepal_length', 'sepal_width', 'petal_length', 'petal_width',\n",
            "       'species'],\n",
            "      dtype='object')\n"
          ]
        }
      ]
    },
    {
      "cell_type": "code",
      "source": [
        "print(df.head())"
      ],
      "metadata": {
        "colab": {
          "base_uri": "https://localhost:8080/"
        },
        "id": "bar6fJ2fp4VY",
        "outputId": "6e1ea138-69df-46c2-bb0c-f5b4917d2e42"
      },
      "execution_count": 5,
      "outputs": [
        {
          "output_type": "stream",
          "name": "stdout",
          "text": [
            "   sepal_length  sepal_width  petal_length  petal_width species\n",
            "0           5.1          3.5           1.4          0.2  setosa\n",
            "1           4.9          3.0           1.4          0.2  setosa\n",
            "2           4.7          3.2           1.3          0.2  setosa\n",
            "3           4.6          3.1           1.5          0.2  setosa\n",
            "4           5.0          3.6           1.4          0.2  setosa\n"
          ]
        }
      ]
    },
    {
      "cell_type": "code",
      "source": [
        "print(df.info())"
      ],
      "metadata": {
        "colab": {
          "base_uri": "https://localhost:8080/"
        },
        "id": "uPsN0bfrqKY_",
        "outputId": "e8369e48-6bfb-4730-d1e8-d35dc46c6c01"
      },
      "execution_count": 9,
      "outputs": [
        {
          "output_type": "stream",
          "name": "stdout",
          "text": [
            "<class 'pandas.core.frame.DataFrame'>\n",
            "RangeIndex: 150 entries, 0 to 149\n",
            "Data columns (total 5 columns):\n",
            " #   Column        Non-Null Count  Dtype  \n",
            "---  ------        --------------  -----  \n",
            " 0   sepal_length  150 non-null    float64\n",
            " 1   sepal_width   150 non-null    float64\n",
            " 2   petal_length  150 non-null    float64\n",
            " 3   petal_width   150 non-null    float64\n",
            " 4   species       150 non-null    object \n",
            "dtypes: float64(4), object(1)\n",
            "memory usage: 6.0+ KB\n",
            "None\n"
          ]
        }
      ]
    },
    {
      "cell_type": "code",
      "source": [
        "previsor = df.iloc[:, 0:4].values\n",
        "classe = df.iloc[:, 4].values"
      ],
      "metadata": {
        "id": "A0BMaRZYqVY_"
      },
      "execution_count": 10,
      "outputs": []
    },
    {
      "cell_type": "code",
      "source": [
        "x_treino, x_teste, y_treino, y_teste = train_test_split(previsor, classe, test_size = 0.3, random_state = 1)"
      ],
      "metadata": {
        "id": "eJh7wzL-r_dP"
      },
      "execution_count": 11,
      "outputs": []
    },
    {
      "cell_type": "code",
      "source": [
        "from sklearn.naive_bayes import GaussianNB\n",
        "from sklearn.metrics import accuracy_score"
      ],
      "metadata": {
        "id": "xg65LJdLsHbo"
      },
      "execution_count": 12,
      "outputs": []
    },
    {
      "cell_type": "code",
      "source": [
        "modelonb = GaussianNB()\n",
        "modelonb = modelonb.fit(x_treino, y_treino)"
      ],
      "metadata": {
        "id": "xoL0BokzsKaP"
      },
      "execution_count": 13,
      "outputs": []
    },
    {
      "cell_type": "code",
      "source": [
        "from sklearn.tree import DecisionTreeClassifier\n",
        "modelotree = DecisionTreeClassifier()\n",
        "modelotree = modelotree.fit(x_treino, y_treino)"
      ],
      "metadata": {
        "id": "tXBmqOUrsUhd"
      },
      "execution_count": 16,
      "outputs": []
    },
    {
      "cell_type": "code",
      "source": [
        "preditornb = modelonb.predict(x_teste)"
      ],
      "metadata": {
        "id": "j3yzyG_HtTjH"
      },
      "execution_count": 19,
      "outputs": []
    },
    {
      "cell_type": "code",
      "source": [
        "preditortree = modelotree.predict(x_teste)"
      ],
      "metadata": {
        "id": "ubP99gq-soxQ"
      },
      "execution_count": 17,
      "outputs": []
    },
    {
      "cell_type": "code",
      "source": [
        "from sklearn.metrics import confusion_matrix\n",
        "taxa_acerto = accuracy_score(y_teste, preditornb)\n",
        "taxa_erro = 1 - taxa_acerto\n",
        "print(\"Naive Bayes\")\n",
        "print(\"Taxa de acerto:\")\n",
        "print(taxa_acerto)\n",
        "print(\"Taxa de erro:\")\n",
        "print(taxa_erro)\n",
        "print(\"-------\")\n",
        "print(confusion_matrix(y_teste,preditornb))\n",
        "\n",
        "taxa_acerto = accuracy_score(y_teste, preditortree)\n",
        "taxa_erro = 1 - taxa_acerto\n",
        "print(\"Arvore\")\n",
        "print(\"Taxa de acerto:\")\n",
        "print(taxa_acerto)\n",
        "print(\"Taxa de erro:\")\n",
        "print(taxa_erro)\n",
        "print(\"-------\")\n",
        "print(confusion_matrix(y_teste,preditortree))"
      ],
      "metadata": {
        "colab": {
          "base_uri": "https://localhost:8080/"
        },
        "id": "9O55l9T_s2vn",
        "outputId": "0ce592ae-0d7c-4903-ec42-d71a2898843d"
      },
      "execution_count": 20,
      "outputs": [
        {
          "output_type": "stream",
          "name": "stdout",
          "text": [
            "Naive Bayes\n",
            "Taxa de acerto:\n",
            "0.9333333333333333\n",
            "Taxa de erro:\n",
            "0.06666666666666665\n",
            "-------\n",
            "[[14  0  0]\n",
            " [ 0 16  2]\n",
            " [ 0  1 12]]\n",
            "Arvore\n",
            "Taxa de acerto:\n",
            "0.9555555555555556\n",
            "Taxa de erro:\n",
            "0.0444444444444444\n",
            "-------\n",
            "[[14  0  0]\n",
            " [ 0 17  1]\n",
            " [ 0  1 12]]\n"
          ]
        }
      ]
    }
  ]
}