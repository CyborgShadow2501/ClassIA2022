{
  "nbformat": 4,
  "nbformat_minor": 0,
  "metadata": {
    "colab": {
      "name": "ME|Questao2",
      "provenance": [],
      "collapsed_sections": []
    },
    "kernelspec": {
      "name": "python3",
      "display_name": "Python 3"
    },
    "language_info": {
      "name": "python"
    }
  },
  "cells": [
    {
      "cell_type": "code",
      "execution_count": 91,
      "metadata": {
        "id": "I32Hy_UXfrbI"
      },
      "outputs": [],
      "source": [
        "import pandas as pd\n",
        "\n",
        "df = pd.read_csv('auction.csv')\n",
        "\n",
        "df_Cartier = df.query(\"item=='Cartier wristwatch'\")\n",
        "df_PalmPilot = df.query(\"item=='Palm Pilot M515 PDA'\")\n",
        "df_Xbox = df.query(\"item=='Xbox game console'\")\n",
        "\n",
        "previsor_Cartier = df_Cartier.iloc[:, [0, 1, 2, 3, 4, 5, 6, 8]].values\n",
        "classe_Cartier = df_Cartier.iloc[:, 7].values \n",
        "\n",
        "previsor_PalmPilot = df_PalmPilot.iloc[:, [0, 1, 2, 3, 4, 5, 6, 8]].values\n",
        "classe_PalmPilot = df_PalmPilot.iloc[:, 7].values \n",
        "\n",
        "previsor_Xbox = df_Xbox.iloc[:, [0, 1, 2, 3, 4, 5, 6, 8]].values\n",
        "classe_Xbox = df_Xbox.iloc[:, 7].values "
      ]
    },
    {
      "cell_type": "code",
      "source": [
        "from sklearn.model_selection import train_test_split\n",
        "from sklearn.preprocessing import LabelEncoder\n",
        "from sklearn.pipeline import Pipeline\n",
        "from sklearn.preprocessing import StandardScaler\n",
        "from sklearn.impute import SimpleImputer\n",
        "\n",
        "num_pipeline = Pipeline([\n",
        "  ('imputer', SimpleImputer(strategy=\"median\")),\n",
        "  ('std_scaler', StandardScaler()),\n",
        "])\n",
        "\n",
        "lenc = LabelEncoder()\n",
        "\n",
        "previsor_Cartier[:, 3] = lenc.fit_transform(previsor_Cartier[:, 3])\n",
        "previsor_Cartier[:, 7] = lenc.fit_transform(previsor_Cartier[:, 7])\n",
        "classe_Cartier = lenc.fit_transform(classe_Cartier)\n",
        "x_treino_Cartier, x_teste_Cartier, y_treino_Cartier, y_teste_Cartier = train_test_split(previsor_Cartier, classe_Cartier, test_size = 0.5, random_state = 1)\n",
        "\n",
        "previsor_PalmPilot[:, 3] = lenc.fit_transform(previsor_PalmPilot[:, 3])\n",
        "previsor_PalmPilot[:, 7] = lenc.fit_transform(previsor_PalmPilot[:, 7])\n",
        "classe_PalmPilot = lenc.fit_transform(classe_PalmPilot)\n",
        "x_treino_PalmPilot, x_teste_PalmPilot, y_treino_PalmPilot, y_teste_PalmPilot = train_test_split(previsor_PalmPilot, classe_PalmPilot, test_size = 0.3, random_state = 1)\n",
        "\n",
        "previsor_Xbox[:, 3] = lenc.fit_transform(previsor_Xbox[:, 3])\n",
        "previsor_Xbox[:, 7] = lenc.fit_transform(previsor_Xbox[:, 7])\n",
        "classe_Xbox = lenc.fit_transform(classe_Xbox)\n",
        "previsor_Xbox = num_pipeline.fit_transform(previsor_Xbox)\n",
        "x_treino_Xbox, x_teste_Xbox, y_treino_Xbox, y_teste_Xbox = train_test_split(previsor_Xbox, classe_Xbox, test_size = 0.3, random_state = 1)"
      ],
      "metadata": {
        "id": "zpg3QEtsm21t"
      },
      "execution_count": 98,
      "outputs": []
    },
    {
      "cell_type": "code",
      "source": [
        "from sklearn.tree import DecisionTreeRegressor\n",
        "from sklearn.linear_model import SGDRegressor\n",
        "from sklearn.metrics import mean_squared_error, mean_absolute_error"
      ],
      "metadata": {
        "id": "Z8uL6tqvyA7P"
      },
      "execution_count": 102,
      "outputs": []
    },
    {
      "cell_type": "code",
      "source": [
        "# Cartier\n",
        "\n",
        "modeloTree = DecisionTreeRegressor()\n",
        "modeloTree = modeloTree.fit(x_treino_Cartier, y_treino_Cartier)\n",
        "preditorTree = modeloTree.predict(x_teste_Cartier)\n",
        "\n",
        "modeloSGD = SGDRegressor()\n",
        "modeloSGD = modeloSGD.fit(x_treino_Cartier, y_treino_Cartier)\n",
        "preditorSGD = modeloTree.predict(x_teste_Cartier)\n",
        "\n",
        "squared_tree = mean_squared_error(y_teste_Cartier, preditorTree)\n",
        "absolute_tree = mean_absolute_error(y_teste_Cartier, preditorSGD)\n",
        "\n",
        "squared_SGD = mean_squared_error(y_teste_Cartier, preditorTree)\n",
        "absolute_SGD = mean_absolute_error(y_teste_Cartier, preditorSGD)\n",
        "\n",
        "print(\"Tree =>\")\n",
        "print(f\"Squared Error: {squared_tree}\")\n",
        "print(f\"Absolute Error: {absolute_tree}\")\n",
        "\n",
        "print('')\n",
        "\n",
        "print(\"SGD =>\")\n",
        "print(f\"Squared Error: {squared_SGD}\")\n",
        "print(f\"Absolute Error: {absolute_SGD}\")"
      ],
      "metadata": {
        "colab": {
          "base_uri": "https://localhost:8080/"
        },
        "id": "88EwFL-5_ZLb",
        "outputId": "23ef80bf-a299-49f8-cdcb-0d41b91cc07c"
      },
      "execution_count": 104,
      "outputs": [
        {
          "output_type": "stream",
          "name": "stdout",
          "text": [
            "Tree =>\n",
            "Squared Error: 0.0\n",
            "Absolute Error: 0.0\n",
            "\n",
            "SGD =>\n",
            "Squared Error: 0.0\n",
            "Absolute Error: 0.0\n"
          ]
        }
      ]
    },
    {
      "cell_type": "code",
      "source": [
        "# PalmPilot\n",
        "\n",
        "modeloTree = DecisionTreeRegressor()\n",
        "modeloTree = modeloTree.fit(x_treino_PalmPilot, y_treino_PalmPilot)\n",
        "preditorTree = modeloTree.predict(x_teste_PalmPilot)\n",
        "\n",
        "modeloSGD = SGDRegressor()\n",
        "modeloSGD = modeloSGD.fit(x_treino_PalmPilot, y_treino_PalmPilot)\n",
        "preditorSGD = modeloTree.predict(x_teste_PalmPilot)\n",
        "\n",
        "squared_tree = mean_squared_error(y_teste_PalmPilot, preditorTree)\n",
        "absolute_tree = mean_squared_error(y_teste_PalmPilot, preditorSGD)\n",
        "squared_SGD = mean_absolute_error(y_teste_PalmPilot, preditorTree)\n",
        "absolute_SGD = mean_absolute_error(y_teste_PalmPilot, preditorSGD)\n",
        "\n",
        "print(\"Tree =>\")\n",
        "print(f\"Squared Error: {squared_tree}\")\n",
        "print(f\"Absolute Error: {absolute_tree}\")\n",
        "\n",
        "print('')\n",
        "\n",
        "print(\"SGD =>\")\n",
        "print(f\"Squared Error: {squared_SGD}\")\n",
        "print(f\"Absolute Error: {absolute_SGD}\")"
      ],
      "metadata": {
        "colab": {
          "base_uri": "https://localhost:8080/"
        },
        "id": "BmiFGzfFEoYZ",
        "outputId": "0b89eaeb-0ffd-4e0d-b500-4f6c8702f203"
      },
      "execution_count": 95,
      "outputs": [
        {
          "output_type": "stream",
          "name": "stdout",
          "text": [
            "Tree =>\n",
            "Squared Error: 0.0\n",
            "Absolute Error: 0.0\n",
            "\n",
            "SGD =>\n",
            "Squared Error: 0.0\n",
            "Absolute Error: 0.0\n"
          ]
        }
      ]
    },
    {
      "cell_type": "code",
      "source": [
        "# Xbox\n",
        "\n",
        "modeloTree = DecisionTreeRegressor()\n",
        "modeloTree = modeloTree.fit(x_treino_Xbox, y_treino_Xbox)\n",
        "preditorTree = modeloTree.predict(x_teste_Xbox)\n",
        "\n",
        "modeloSGD = SGDRegressor()\n",
        "modeloSGD = modeloSGD.fit(x_treino_Xbox, y_treino_Xbox)\n",
        "preditorSGD = modeloTree.predict(x_teste_Xbox)\n",
        "\n",
        "squared_tree = mean_squared_error(y_teste_Xbox, preditorTree)\n",
        "absolute_tree = mean_squared_error(y_teste_Xbox, preditorSGD)\n",
        "squared_SGD = mean_absolute_error(y_teste_Xbox, preditorTree)\n",
        "absolute_SGD = mean_absolute_error(y_teste_Xbox, preditorSGD)\n",
        "\n",
        "print(\"Tree =>\")\n",
        "print(f\"Squared Error: {squared_tree}\")\n",
        "print(f\"Absolute Error: {absolute_tree}\")\n",
        "\n",
        "print('')\n",
        "\n",
        "print(\"SGD =>\")\n",
        "print(f\"Squared Error: {squared_SGD}\")\n",
        "print(f\"Absolute Error: {absolute_SGD}\")"
      ],
      "metadata": {
        "colab": {
          "base_uri": "https://localhost:8080/"
        },
        "id": "MDlGOB87F8aG",
        "outputId": "bdaee0b6-0aa4-4665-a295-49fb5a27ac0d"
      },
      "execution_count": 97,
      "outputs": [
        {
          "output_type": "stream",
          "name": "stdout",
          "text": [
            "Tree =>\n",
            "Squared Error: 0.0\n",
            "Absolute Error: 0.0\n",
            "\n",
            "SGD =>\n",
            "Squared Error: 0.0\n",
            "Absolute Error: 0.0\n"
          ]
        }
      ]
    }
  ]
}