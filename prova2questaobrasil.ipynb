{
  "nbformat": 4,
  "nbformat_minor": 0,
  "metadata": {
    "colab": {
      "name": "prova2questaobrasil.ipynb",
      "provenance": []
    },
    "kernelspec": {
      "name": "python3",
      "display_name": "Python 3"
    },
    "language_info": {
      "name": "python"
    }
  },
  "cells": [
    {
      "cell_type": "code",
      "execution_count": null,
      "metadata": {
        "id": "V3yz7c6spWo_"
      },
      "outputs": [],
      "source": [
        "import pandas as pd\n",
        "import numpy as np"
      ]
    },
    {
      "cell_type": "code",
      "source": [
        "from google.colab import drive\n",
        "drive.mount('/content/drive')"
      ],
      "metadata": {
        "colab": {
          "base_uri": "https://localhost:8080/"
        },
        "id": "VooedkItpkOj",
        "outputId": "7ba10314-d293-4b6b-bd0a-f8fdeee6bb44"
      },
      "execution_count": null,
      "outputs": [
        {
          "output_type": "stream",
          "name": "stdout",
          "text": [
            "Mounted at /content/drive\n"
          ]
        }
      ]
    },
    {
      "cell_type": "code",
      "execution_count": null,
      "metadata": {
        "id": "zr42xhKDPqAx"
      },
      "outputs": [],
      "source": [
        "df = pd.read_csv(\"/content/drive/MyDrive/Aula_IA2/worldometer_coronavirus_daily_data.csv\")\n"
      ]
    },
    {
      "cell_type": "code",
      "source": [
        "query_Brazil= df.loc[df['country'] == 'Brazil']"
      ],
      "metadata": {
        "id": "cM_s3zcEpt4T"
      },
      "execution_count": null,
      "outputs": []
    },
    {
      "cell_type": "code",
      "source": [
        "query_Brazil"
      ],
      "metadata": {
        "colab": {
          "base_uri": "https://localhost:8080/",
          "height": 424
        },
        "id": "VPgZWpoaqAkx",
        "outputId": "4c76824e-7563-48fd-ea07-b176ca6cbf8f"
      },
      "execution_count": null,
      "outputs": [
        {
          "output_type": "execute_result",
          "data": {
            "text/plain": [
              "            date country  cumulative_total_cases  daily_new_cases  \\\n",
              "21320  2020-2-15  Brazil                     0.0              NaN   \n",
              "21321  2020-2-16  Brazil                     0.0              NaN   \n",
              "21322  2020-2-17  Brazil                     0.0              NaN   \n",
              "21323  2020-2-18  Brazil                     0.0              NaN   \n",
              "21324  2020-2-19  Brazil                     0.0              NaN   \n",
              "...          ...     ...                     ...              ...   \n",
              "22135  2022-5-10  Brazil              30594388.0          20143.0   \n",
              "22136  2022-5-11  Brazil              30617786.0          23398.0   \n",
              "22137  2022-5-12  Brazil              30639130.0          21344.0   \n",
              "22138  2022-5-13  Brazil              30664739.0          25609.0   \n",
              "22139  2022-5-14  Brazil              30682094.0          17355.0   \n",
              "\n",
              "       active_cases  cumulative_total_deaths  daily_new_deaths  \n",
              "21320           0.0                      0.0               NaN  \n",
              "21321           0.0                      0.0               NaN  \n",
              "21322           0.0                      0.0               NaN  \n",
              "21323           0.0                      0.0               NaN  \n",
              "21324           0.0                      0.0               NaN  \n",
              "...             ...                      ...               ...  \n",
              "22135      248825.0                 664443.0             195.0  \n",
              "22136      255291.0                 664564.0             121.0  \n",
              "22137      270526.0                 664700.0             136.0  \n",
              "22138      288171.0                 664830.0             130.0  \n",
              "22139      298772.0                 664920.0              90.0  \n",
              "\n",
              "[820 rows x 7 columns]"
            ],
            "text/html": [
              "\n",
              "  <div id=\"df-9bc7025a-5bf8-405d-bed6-7f53bf28676a\">\n",
              "    <div class=\"colab-df-container\">\n",
              "      <div>\n",
              "<style scoped>\n",
              "    .dataframe tbody tr th:only-of-type {\n",
              "        vertical-align: middle;\n",
              "    }\n",
              "\n",
              "    .dataframe tbody tr th {\n",
              "        vertical-align: top;\n",
              "    }\n",
              "\n",
              "    .dataframe thead th {\n",
              "        text-align: right;\n",
              "    }\n",
              "</style>\n",
              "<table border=\"1\" class=\"dataframe\">\n",
              "  <thead>\n",
              "    <tr style=\"text-align: right;\">\n",
              "      <th></th>\n",
              "      <th>date</th>\n",
              "      <th>country</th>\n",
              "      <th>cumulative_total_cases</th>\n",
              "      <th>daily_new_cases</th>\n",
              "      <th>active_cases</th>\n",
              "      <th>cumulative_total_deaths</th>\n",
              "      <th>daily_new_deaths</th>\n",
              "    </tr>\n",
              "  </thead>\n",
              "  <tbody>\n",
              "    <tr>\n",
              "      <th>21320</th>\n",
              "      <td>2020-2-15</td>\n",
              "      <td>Brazil</td>\n",
              "      <td>0.0</td>\n",
              "      <td>NaN</td>\n",
              "      <td>0.0</td>\n",
              "      <td>0.0</td>\n",
              "      <td>NaN</td>\n",
              "    </tr>\n",
              "    <tr>\n",
              "      <th>21321</th>\n",
              "      <td>2020-2-16</td>\n",
              "      <td>Brazil</td>\n",
              "      <td>0.0</td>\n",
              "      <td>NaN</td>\n",
              "      <td>0.0</td>\n",
              "      <td>0.0</td>\n",
              "      <td>NaN</td>\n",
              "    </tr>\n",
              "    <tr>\n",
              "      <th>21322</th>\n",
              "      <td>2020-2-17</td>\n",
              "      <td>Brazil</td>\n",
              "      <td>0.0</td>\n",
              "      <td>NaN</td>\n",
              "      <td>0.0</td>\n",
              "      <td>0.0</td>\n",
              "      <td>NaN</td>\n",
              "    </tr>\n",
              "    <tr>\n",
              "      <th>21323</th>\n",
              "      <td>2020-2-18</td>\n",
              "      <td>Brazil</td>\n",
              "      <td>0.0</td>\n",
              "      <td>NaN</td>\n",
              "      <td>0.0</td>\n",
              "      <td>0.0</td>\n",
              "      <td>NaN</td>\n",
              "    </tr>\n",
              "    <tr>\n",
              "      <th>21324</th>\n",
              "      <td>2020-2-19</td>\n",
              "      <td>Brazil</td>\n",
              "      <td>0.0</td>\n",
              "      <td>NaN</td>\n",
              "      <td>0.0</td>\n",
              "      <td>0.0</td>\n",
              "      <td>NaN</td>\n",
              "    </tr>\n",
              "    <tr>\n",
              "      <th>...</th>\n",
              "      <td>...</td>\n",
              "      <td>...</td>\n",
              "      <td>...</td>\n",
              "      <td>...</td>\n",
              "      <td>...</td>\n",
              "      <td>...</td>\n",
              "      <td>...</td>\n",
              "    </tr>\n",
              "    <tr>\n",
              "      <th>22135</th>\n",
              "      <td>2022-5-10</td>\n",
              "      <td>Brazil</td>\n",
              "      <td>30594388.0</td>\n",
              "      <td>20143.0</td>\n",
              "      <td>248825.0</td>\n",
              "      <td>664443.0</td>\n",
              "      <td>195.0</td>\n",
              "    </tr>\n",
              "    <tr>\n",
              "      <th>22136</th>\n",
              "      <td>2022-5-11</td>\n",
              "      <td>Brazil</td>\n",
              "      <td>30617786.0</td>\n",
              "      <td>23398.0</td>\n",
              "      <td>255291.0</td>\n",
              "      <td>664564.0</td>\n",
              "      <td>121.0</td>\n",
              "    </tr>\n",
              "    <tr>\n",
              "      <th>22137</th>\n",
              "      <td>2022-5-12</td>\n",
              "      <td>Brazil</td>\n",
              "      <td>30639130.0</td>\n",
              "      <td>21344.0</td>\n",
              "      <td>270526.0</td>\n",
              "      <td>664700.0</td>\n",
              "      <td>136.0</td>\n",
              "    </tr>\n",
              "    <tr>\n",
              "      <th>22138</th>\n",
              "      <td>2022-5-13</td>\n",
              "      <td>Brazil</td>\n",
              "      <td>30664739.0</td>\n",
              "      <td>25609.0</td>\n",
              "      <td>288171.0</td>\n",
              "      <td>664830.0</td>\n",
              "      <td>130.0</td>\n",
              "    </tr>\n",
              "    <tr>\n",
              "      <th>22139</th>\n",
              "      <td>2022-5-14</td>\n",
              "      <td>Brazil</td>\n",
              "      <td>30682094.0</td>\n",
              "      <td>17355.0</td>\n",
              "      <td>298772.0</td>\n",
              "      <td>664920.0</td>\n",
              "      <td>90.0</td>\n",
              "    </tr>\n",
              "  </tbody>\n",
              "</table>\n",
              "<p>820 rows × 7 columns</p>\n",
              "</div>\n",
              "      <button class=\"colab-df-convert\" onclick=\"convertToInteractive('df-9bc7025a-5bf8-405d-bed6-7f53bf28676a')\"\n",
              "              title=\"Convert this dataframe to an interactive table.\"\n",
              "              style=\"display:none;\">\n",
              "        \n",
              "  <svg xmlns=\"http://www.w3.org/2000/svg\" height=\"24px\"viewBox=\"0 0 24 24\"\n",
              "       width=\"24px\">\n",
              "    <path d=\"M0 0h24v24H0V0z\" fill=\"none\"/>\n",
              "    <path d=\"M18.56 5.44l.94 2.06.94-2.06 2.06-.94-2.06-.94-.94-2.06-.94 2.06-2.06.94zm-11 1L8.5 8.5l.94-2.06 2.06-.94-2.06-.94L8.5 2.5l-.94 2.06-2.06.94zm10 10l.94 2.06.94-2.06 2.06-.94-2.06-.94-.94-2.06-.94 2.06-2.06.94z\"/><path d=\"M17.41 7.96l-1.37-1.37c-.4-.4-.92-.59-1.43-.59-.52 0-1.04.2-1.43.59L10.3 9.45l-7.72 7.72c-.78.78-.78 2.05 0 2.83L4 21.41c.39.39.9.59 1.41.59.51 0 1.02-.2 1.41-.59l7.78-7.78 2.81-2.81c.8-.78.8-2.07 0-2.86zM5.41 20L4 18.59l7.72-7.72 1.47 1.35L5.41 20z\"/>\n",
              "  </svg>\n",
              "      </button>\n",
              "      \n",
              "  <style>\n",
              "    .colab-df-container {\n",
              "      display:flex;\n",
              "      flex-wrap:wrap;\n",
              "      gap: 12px;\n",
              "    }\n",
              "\n",
              "    .colab-df-convert {\n",
              "      background-color: #E8F0FE;\n",
              "      border: none;\n",
              "      border-radius: 50%;\n",
              "      cursor: pointer;\n",
              "      display: none;\n",
              "      fill: #1967D2;\n",
              "      height: 32px;\n",
              "      padding: 0 0 0 0;\n",
              "      width: 32px;\n",
              "    }\n",
              "\n",
              "    .colab-df-convert:hover {\n",
              "      background-color: #E2EBFA;\n",
              "      box-shadow: 0px 1px 2px rgba(60, 64, 67, 0.3), 0px 1px 3px 1px rgba(60, 64, 67, 0.15);\n",
              "      fill: #174EA6;\n",
              "    }\n",
              "\n",
              "    [theme=dark] .colab-df-convert {\n",
              "      background-color: #3B4455;\n",
              "      fill: #D2E3FC;\n",
              "    }\n",
              "\n",
              "    [theme=dark] .colab-df-convert:hover {\n",
              "      background-color: #434B5C;\n",
              "      box-shadow: 0px 1px 3px 1px rgba(0, 0, 0, 0.15);\n",
              "      filter: drop-shadow(0px 1px 2px rgba(0, 0, 0, 0.3));\n",
              "      fill: #FFFFFF;\n",
              "    }\n",
              "  </style>\n",
              "\n",
              "      <script>\n",
              "        const buttonEl =\n",
              "          document.querySelector('#df-9bc7025a-5bf8-405d-bed6-7f53bf28676a button.colab-df-convert');\n",
              "        buttonEl.style.display =\n",
              "          google.colab.kernel.accessAllowed ? 'block' : 'none';\n",
              "\n",
              "        async function convertToInteractive(key) {\n",
              "          const element = document.querySelector('#df-9bc7025a-5bf8-405d-bed6-7f53bf28676a');\n",
              "          const dataTable =\n",
              "            await google.colab.kernel.invokeFunction('convertToInteractive',\n",
              "                                                     [key], {});\n",
              "          if (!dataTable) return;\n",
              "\n",
              "          const docLinkHtml = 'Like what you see? Visit the ' +\n",
              "            '<a target=\"_blank\" href=https://colab.research.google.com/notebooks/data_table.ipynb>data table notebook</a>'\n",
              "            + ' to learn more about interactive tables.';\n",
              "          element.innerHTML = '';\n",
              "          dataTable['output_type'] = 'display_data';\n",
              "          await google.colab.output.renderOutput(dataTable, element);\n",
              "          const docLink = document.createElement('div');\n",
              "          docLink.innerHTML = docLinkHtml;\n",
              "          element.appendChild(docLink);\n",
              "        }\n",
              "      </script>\n",
              "    </div>\n",
              "  </div>\n",
              "  "
            ]
          },
          "metadata": {},
          "execution_count": 5
        }
      ]
    },
    {
      "cell_type": "code",
      "source": [
        ""
      ],
      "metadata": {
        "id": "MMAX784zxiWJ"
      },
      "execution_count": null,
      "outputs": []
    },
    {
      "cell_type": "markdown",
      "source": [
        "Anual:"
      ],
      "metadata": {
        "id": "PZOUv-80x2NT"
      }
    },
    {
      "cell_type": "code",
      "source": [
        "start_date = '2020-1-01'\n",
        "end_date = '2020-12-31'\n",
        "mask = (df['date'] >= start_date) & (df['date'] <= end_date)\n",
        "ano1 = query_Brazil.loc[mask]"
      ],
      "metadata": {
        "id": "dWcUqK57eY-W"
      },
      "execution_count": null,
      "outputs": []
    },
    {
      "cell_type": "code",
      "source": [
        "anomedia2020=ano1.groupby(['country']).mean()"
      ],
      "metadata": {
        "id": "ScA8Xe6Ix98F"
      },
      "execution_count": null,
      "outputs": []
    },
    {
      "cell_type": "code",
      "source": [
        "start_date = '2021-01-01'\n",
        "end_date = '2021-12-31'\n",
        "mask = (df['date'] >= start_date) & (df['date'] <= end_date)\n",
        "ano1 = query_Brazil.loc[mask]"
      ],
      "metadata": {
        "id": "IwhXz4Y8ysFY"
      },
      "execution_count": null,
      "outputs": []
    },
    {
      "cell_type": "code",
      "source": [
        "anomedia2021=ano1.groupby(['country']).mean()"
      ],
      "metadata": {
        "id": "NGWvb0zky9yH"
      },
      "execution_count": null,
      "outputs": []
    },
    {
      "cell_type": "code",
      "source": [
        "start_date = '2022-1-01'\n",
        "end_date = '2022-5-14'\n",
        "mask = (df['date'] >= start_date) & (df['date'] <= end_date)\n",
        "ano1 = query_Brazil.loc[mask]"
      ],
      "metadata": {
        "id": "warTgUtjK-xu"
      },
      "execution_count": null,
      "outputs": []
    },
    {
      "cell_type": "code",
      "source": [
        "anomedia2022=ano1.groupby(['country']).mean()"
      ],
      "metadata": {
        "id": "4Uo3Rr55LMAl"
      },
      "execution_count": null,
      "outputs": []
    },
    {
      "cell_type": "code",
      "source": [
        "frames = [anomedia2020, anomedia2021,anomedia2022]\n",
        "mediaanos = pd.concat(frames)"
      ],
      "metadata": {
        "id": "PeUIDo-ZznLQ"
      },
      "execution_count": null,
      "outputs": []
    },
    {
      "cell_type": "code",
      "source": [
        "mediaanos"
      ],
      "metadata": {
        "colab": {
          "base_uri": "https://localhost:8080/",
          "height": 175
        },
        "id": "zjYiAlW9z4OZ",
        "outputId": "c1c19cb3-c65f-4320-fa07-be70211ab98e"
      },
      "execution_count": null,
      "outputs": [
        {
          "output_type": "execute_result",
          "data": {
            "text/plain": [
              "         cumulative_total_cases  daily_new_cases  active_cases  \\\n",
              "country                                                          \n",
              "Brazil             6.080136e+06     31286.630435  5.489788e+05   \n",
              "Brazil             1.854095e+07     19530.414634  3.581424e+05   \n",
              "Brazil             2.793369e+07     62646.067164  1.112393e+06   \n",
              "\n",
              "         cumulative_total_deaths  daily_new_deaths  \n",
              "country                                             \n",
              "Brazil             167685.130435        554.500000  \n",
              "Brazil             509392.138211        421.682927  \n",
              "Brazil             646767.007463        341.873134  "
            ],
            "text/html": [
              "\n",
              "  <div id=\"df-67e502eb-e5e0-4965-9c07-b01cd06dd431\">\n",
              "    <div class=\"colab-df-container\">\n",
              "      <div>\n",
              "<style scoped>\n",
              "    .dataframe tbody tr th:only-of-type {\n",
              "        vertical-align: middle;\n",
              "    }\n",
              "\n",
              "    .dataframe tbody tr th {\n",
              "        vertical-align: top;\n",
              "    }\n",
              "\n",
              "    .dataframe thead th {\n",
              "        text-align: right;\n",
              "    }\n",
              "</style>\n",
              "<table border=\"1\" class=\"dataframe\">\n",
              "  <thead>\n",
              "    <tr style=\"text-align: right;\">\n",
              "      <th></th>\n",
              "      <th>cumulative_total_cases</th>\n",
              "      <th>daily_new_cases</th>\n",
              "      <th>active_cases</th>\n",
              "      <th>cumulative_total_deaths</th>\n",
              "      <th>daily_new_deaths</th>\n",
              "    </tr>\n",
              "    <tr>\n",
              "      <th>country</th>\n",
              "      <th></th>\n",
              "      <th></th>\n",
              "      <th></th>\n",
              "      <th></th>\n",
              "      <th></th>\n",
              "    </tr>\n",
              "  </thead>\n",
              "  <tbody>\n",
              "    <tr>\n",
              "      <th>Brazil</th>\n",
              "      <td>6.080136e+06</td>\n",
              "      <td>31286.630435</td>\n",
              "      <td>5.489788e+05</td>\n",
              "      <td>167685.130435</td>\n",
              "      <td>554.500000</td>\n",
              "    </tr>\n",
              "    <tr>\n",
              "      <th>Brazil</th>\n",
              "      <td>1.854095e+07</td>\n",
              "      <td>19530.414634</td>\n",
              "      <td>3.581424e+05</td>\n",
              "      <td>509392.138211</td>\n",
              "      <td>421.682927</td>\n",
              "    </tr>\n",
              "    <tr>\n",
              "      <th>Brazil</th>\n",
              "      <td>2.793369e+07</td>\n",
              "      <td>62646.067164</td>\n",
              "      <td>1.112393e+06</td>\n",
              "      <td>646767.007463</td>\n",
              "      <td>341.873134</td>\n",
              "    </tr>\n",
              "  </tbody>\n",
              "</table>\n",
              "</div>\n",
              "      <button class=\"colab-df-convert\" onclick=\"convertToInteractive('df-67e502eb-e5e0-4965-9c07-b01cd06dd431')\"\n",
              "              title=\"Convert this dataframe to an interactive table.\"\n",
              "              style=\"display:none;\">\n",
              "        \n",
              "  <svg xmlns=\"http://www.w3.org/2000/svg\" height=\"24px\"viewBox=\"0 0 24 24\"\n",
              "       width=\"24px\">\n",
              "    <path d=\"M0 0h24v24H0V0z\" fill=\"none\"/>\n",
              "    <path d=\"M18.56 5.44l.94 2.06.94-2.06 2.06-.94-2.06-.94-.94-2.06-.94 2.06-2.06.94zm-11 1L8.5 8.5l.94-2.06 2.06-.94-2.06-.94L8.5 2.5l-.94 2.06-2.06.94zm10 10l.94 2.06.94-2.06 2.06-.94-2.06-.94-.94-2.06-.94 2.06-2.06.94z\"/><path d=\"M17.41 7.96l-1.37-1.37c-.4-.4-.92-.59-1.43-.59-.52 0-1.04.2-1.43.59L10.3 9.45l-7.72 7.72c-.78.78-.78 2.05 0 2.83L4 21.41c.39.39.9.59 1.41.59.51 0 1.02-.2 1.41-.59l7.78-7.78 2.81-2.81c.8-.78.8-2.07 0-2.86zM5.41 20L4 18.59l7.72-7.72 1.47 1.35L5.41 20z\"/>\n",
              "  </svg>\n",
              "      </button>\n",
              "      \n",
              "  <style>\n",
              "    .colab-df-container {\n",
              "      display:flex;\n",
              "      flex-wrap:wrap;\n",
              "      gap: 12px;\n",
              "    }\n",
              "\n",
              "    .colab-df-convert {\n",
              "      background-color: #E8F0FE;\n",
              "      border: none;\n",
              "      border-radius: 50%;\n",
              "      cursor: pointer;\n",
              "      display: none;\n",
              "      fill: #1967D2;\n",
              "      height: 32px;\n",
              "      padding: 0 0 0 0;\n",
              "      width: 32px;\n",
              "    }\n",
              "\n",
              "    .colab-df-convert:hover {\n",
              "      background-color: #E2EBFA;\n",
              "      box-shadow: 0px 1px 2px rgba(60, 64, 67, 0.3), 0px 1px 3px 1px rgba(60, 64, 67, 0.15);\n",
              "      fill: #174EA6;\n",
              "    }\n",
              "\n",
              "    [theme=dark] .colab-df-convert {\n",
              "      background-color: #3B4455;\n",
              "      fill: #D2E3FC;\n",
              "    }\n",
              "\n",
              "    [theme=dark] .colab-df-convert:hover {\n",
              "      background-color: #434B5C;\n",
              "      box-shadow: 0px 1px 3px 1px rgba(0, 0, 0, 0.15);\n",
              "      filter: drop-shadow(0px 1px 2px rgba(0, 0, 0, 0.3));\n",
              "      fill: #FFFFFF;\n",
              "    }\n",
              "  </style>\n",
              "\n",
              "      <script>\n",
              "        const buttonEl =\n",
              "          document.querySelector('#df-67e502eb-e5e0-4965-9c07-b01cd06dd431 button.colab-df-convert');\n",
              "        buttonEl.style.display =\n",
              "          google.colab.kernel.accessAllowed ? 'block' : 'none';\n",
              "\n",
              "        async function convertToInteractive(key) {\n",
              "          const element = document.querySelector('#df-67e502eb-e5e0-4965-9c07-b01cd06dd431');\n",
              "          const dataTable =\n",
              "            await google.colab.kernel.invokeFunction('convertToInteractive',\n",
              "                                                     [key], {});\n",
              "          if (!dataTable) return;\n",
              "\n",
              "          const docLinkHtml = 'Like what you see? Visit the ' +\n",
              "            '<a target=\"_blank\" href=https://colab.research.google.com/notebooks/data_table.ipynb>data table notebook</a>'\n",
              "            + ' to learn more about interactive tables.';\n",
              "          element.innerHTML = '';\n",
              "          dataTable['output_type'] = 'display_data';\n",
              "          await google.colab.output.renderOutput(dataTable, element);\n",
              "          const docLink = document.createElement('div');\n",
              "          docLink.innerHTML = docLinkHtml;\n",
              "          element.appendChild(docLink);\n",
              "        }\n",
              "      </script>\n",
              "    </div>\n",
              "  </div>\n",
              "  "
            ]
          },
          "metadata": {},
          "execution_count": 13
        }
      ]
    },
    {
      "cell_type": "markdown",
      "source": [
        "Anos 2020,2021,2022 (em sequencia) "
      ],
      "metadata": {
        "id": "c0XPqGwb03Ki"
      }
    },
    {
      "cell_type": "code",
      "source": [
        "mediaanos.plot(kind=\"bar\", y=\"daily_new_cases\")"
      ],
      "metadata": {
        "colab": {
          "base_uri": "https://localhost:8080/",
          "height": 314
        },
        "id": "_S7aqFjB0PWH",
        "outputId": "71ecbcab-1198-42f3-a5be-1997fd1fda60"
      },
      "execution_count": null,
      "outputs": [
        {
          "output_type": "execute_result",
          "data": {
            "text/plain": [
              "<matplotlib.axes._subplots.AxesSubplot at 0x7f9e11d1dc90>"
            ]
          },
          "metadata": {},
          "execution_count": 14
        },
        {
          "output_type": "display_data",
          "data": {
            "text/plain": [
              "<Figure size 432x288 with 1 Axes>"
            ],
            "image/png": "[encoded data removed]"
          },
          "metadata": {
            "needs_background": "light"
          }
        }
      ]
    },
    {
      "cell_type": "code",
      "source": [
        "mediaanos.plot(kind=\"bar\", y=\"daily_new_deaths\")"
      ],
      "metadata": {
        "colab": {
          "base_uri": "https://localhost:8080/",
          "height": 314
        },
        "id": "YFHooEYOTVwY",
        "outputId": "09cd54ff-e077-44f6-cf7c-5cc844ccc3ae"
      },
      "execution_count": null,
      "outputs": [
        {
          "output_type": "execute_result",
          "data": {
            "text/plain": [
              "<matplotlib.axes._subplots.AxesSubplot at 0x7f9e11c6ca50>"
            ]
          },
          "metadata": {},
          "execution_count": 15
        },
        {
          "output_type": "display_data",
          "data": {
            "text/plain": [
              "<Figure size 432x288 with 1 Axes>"
            ],
            "image/png": "[encoded data removed]"
          },
          "metadata": {
            "needs_background": "light"
          }
        }
      ]
    },
    {
      "cell_type": "code",
      "source": [
        "start_date = '2020-2-15'\n",
        "end_date = '2020-3-15'\n",
        "mask = (df['date'] >= start_date) & (df['date'] <= end_date)\n",
        "fev = query_Brazil.loc[mask]\n",
        "fev=fev.groupby(['country']).mean() \n",
        "start_date = '2020-3-15'\n",
        "end_date = '2020-4-15'\n",
        "mask = (df['date'] >= start_date) & (df['date'] <= end_date)\n",
        "mar = query_Brazil.loc[mask]\n",
        "mar=mar.groupby(['country']).mean() \n",
        "start_date = '2020-4-15'\n",
        "end_date = '2020-5-15'\n",
        "mask = (df['date'] >= start_date) & (df['date'] <= end_date)\n",
        "abr = query_Brazil.loc[mask]\n",
        "abr=abr.groupby(['country']).mean() \n",
        "start_date = '2020-5-15'\n",
        "end_date = '2020-6-15'\n",
        "mask = (df['date'] >= start_date) & (df['date'] <= end_date)\n",
        "mai= query_Brazil.loc[mask]\n",
        "mai=mai.groupby(['country']).mean() \n",
        "start_date = '2020-6-15'\n",
        "end_date = '2020-7-15'\n",
        "mask = (df['date'] >= start_date) & (df['date'] <= end_date)\n",
        "jun = query_Brazil.loc[mask]\n",
        "jun=jun.groupby(['country']).mean() \n",
        "start_date = '2020-7-15'\n",
        "end_date = '2020-8-15'\n",
        "mask = (df['date'] >= start_date) & (df['date'] <= end_date)\n",
        "jul = query_Brazil.loc[mask]\n",
        "jul=jul.groupby(['country']).mean() \n",
        "start_date = '2020-8-15'\n",
        "end_date = '2020-9-15'\n",
        "mask = (df['date'] >= start_date) & (df['date'] <= end_date)\n",
        "ago = query_Brazil.loc[mask]\n",
        "ago=ago.groupby(['country']).mean() \n",
        "start_date = '2020-09-15'\n",
        "end_date = '2020-10-15'\n",
        "mask = (df['date'] >= start_date) & (df['date'] <= end_date)\n",
        "sete = query_Brazil.loc[mask]\n",
        "sete=sete.groupby(['country']).mean()\n",
        "start_date = '2020-10-15'\n",
        "end_date = '2020-11-15'\n",
        "mask = (df['date'] >= start_date) & (df['date'] <= end_date)\n",
        "out = query_Brazil.loc[mask]\n",
        "out=out.groupby(['country']).mean() \n",
        "start_date = '2020-11-15'\n",
        "end_date = '2020-12-15'\n",
        "mask = (df['date'] >= start_date) & (df['date'] <= end_date)\n",
        "nov = query_Brazil.loc[mask]\n",
        "nov=nov.groupby(['country']).mean() \n",
        "start_date = '2020-12-15'\n",
        "end_date = '2021-01-15'\n",
        "mask = (df['date'] >= start_date) & (df['date'] <= end_date)\n",
        "dez = query_Brazil.loc[mask]\n",
        "dez=dez.groupby(['country']).mean() "
      ],
      "metadata": {
        "id": "s_FfOqhK3m9e"
      },
      "execution_count": null,
      "outputs": []
    },
    {
      "cell_type": "code",
      "source": [
        "frames = [fev, mar,abr,mai,jun,jul,ago,sete,out,nov,dez]\n",
        "mediames = pd.concat(frames)"
      ],
      "metadata": {
        "id": "QnNkQF4TBsFM"
      },
      "execution_count": null,
      "outputs": []
    },
    {
      "cell_type": "markdown",
      "source": [
        "Meidas novos casos, de fev até dez de 2020."
      ],
      "metadata": {
        "id": "8Chz44wwEC1Q"
      }
    },
    {
      "cell_type": "code",
      "source": [
        "mediames.plot(kind=\"bar\", y=\"daily_new_cases\")"
      ],
      "metadata": {
        "colab": {
          "base_uri": "https://localhost:8080/",
          "height": 314
        },
        "id": "rK-d2OEQCISA",
        "outputId": "46257a5d-f903-471c-a7be-0578e17e0d27"
      },
      "execution_count": null,
      "outputs": [
        {
          "output_type": "execute_result",
          "data": {
            "text/plain": [
              "<matplotlib.axes._subplots.AxesSubplot at 0x7f9e11d1d550>"
            ]
          },
          "metadata": {},
          "execution_count": 18
        },
        {
          "output_type": "display_data",
          "data": {
            "text/plain": [
              "<Figure size 432x288 with 1 Axes>"
            ],
            "image/png": "[encoded data removed]"
          },
          "metadata": {
            "needs_background": "light"
          }
        }
      ]
    },
    {
      "cell_type": "code",
      "source": [
        "mediames.plot(kind=\"bar\", y=\"daily_new_deaths\")"
      ],
      "metadata": {
        "colab": {
          "base_uri": "https://localhost:8080/",
          "height": 314
        },
        "id": "ix15pOoFbouR",
        "outputId": "84d8afe8-d0fc-4570-8edd-cab88cb92319"
      },
      "execution_count": null,
      "outputs": [
        {
          "output_type": "execute_result",
          "data": {
            "text/plain": [
              "<matplotlib.axes._subplots.AxesSubplot at 0x7f9e116f1510>"
            ]
          },
          "metadata": {},
          "execution_count": 19
        },
        {
          "output_type": "display_data",
          "data": {
            "text/plain": [
              "<Figure size 432x288 with 1 Axes>"
            ],
            "image/png": "[encoded data removed]"
          },
          "metadata": {
            "needs_background": "light"
          }
        }
      ]
    },
    {
      "cell_type": "code",
      "source": [
        "start_date = '2021-1-15'\n",
        "end_date = '2021-2-15'\n",
        "mask = (df['date'] >= start_date) & (df['date'] <= end_date)\n",
        "jan = query_Brazil.loc[mask]\n",
        "jan=jan.groupby(['country']).mean()\n",
        "start_date = '2021-2-15'\n",
        "end_date = '2021-3-15'\n",
        "mask = (df['date'] >= start_date) & (df['date'] <= end_date)\n",
        "fev = query_Brazil.loc[mask]\n",
        "fev=fev.groupby(['country']).mean() \n",
        "start_date = '2021-3-15'\n",
        "end_date = '2021-4-15'\n",
        "mask = (df['date'] >= start_date) & (df['date'] <= end_date)\n",
        "mar = query_Brazil.loc[mask]\n",
        "mar=mar.groupby(['country']).mean() \n",
        "start_date = '2021-4-15'\n",
        "end_date = '2021-5-15'\n",
        "mask = (df['date'] >= start_date) & (df['date'] <= end_date)\n",
        "abr = query_Brazil.loc[mask]\n",
        "abr=abr.groupby(['country']).mean() \n",
        "start_date = '2021-5-15'\n",
        "end_date = '2021-6-15'\n",
        "mask = (df['date'] >= start_date) & (df['date'] <= end_date)\n",
        "mai= query_Brazil.loc[mask]\n",
        "mai=mai.groupby(['country']).mean() \n",
        "start_date = '2021-6-15'\n",
        "end_date = '2021-7-15'\n",
        "mask = (df['date'] >= start_date) & (df['date'] <= end_date)\n",
        "jun = query_Brazil.loc[mask]\n",
        "jun=jun.groupby(['country']).mean() \n",
        "start_date = '2021-7-15'\n",
        "end_date = '2021-8-15'\n",
        "mask = (df['date'] >= start_date) & (df['date'] <= end_date)\n",
        "jul = query_Brazil.loc[mask]\n",
        "jul=jul.groupby(['country']).mean() \n",
        "start_date = '2021-8-15'\n",
        "end_date = '2021-9-15'\n",
        "mask = (df['date'] >= start_date) & (df['date'] <= end_date)\n",
        "ago = query_Brazil.loc[mask]\n",
        "ago=ago.groupby(['country']).mean() \n",
        "start_date = '2021-09-15'\n",
        "end_date = '2021-10-15'\n",
        "mask = (df['date'] >= start_date) & (df['date'] <= end_date)\n",
        "sete = query_Brazil.loc[mask]\n",
        "sete=sete.groupby(['country']).mean()\n",
        "start_date = '2021-10-15'\n",
        "end_date = '2021-11-15'\n",
        "mask = (df['date'] >= start_date) & (df['date'] <= end_date)\n",
        "out = query_Brazil.loc[mask]\n",
        "out=out.groupby(['country']).mean() \n",
        "start_date = '2021-11-15'\n",
        "end_date = '2021-12-15'\n",
        "mask = (df['date'] >= start_date) & (df['date'] <= end_date)\n",
        "nov = query_Brazil.loc[mask]\n",
        "nov=nov.groupby(['country']).mean() \n",
        "start_date = '2021-12-15'\n",
        "end_date = '2022-01-15'\n",
        "mask = (df['date'] >= start_date) & (df['date'] <= end_date)\n",
        "dez = query_Brazil.loc[mask]\n",
        "dez=dez.groupby(['country']).mean() "
      ],
      "metadata": {
        "id": "7agwCpECEHug"
      },
      "execution_count": null,
      "outputs": []
    },
    {
      "cell_type": "code",
      "source": [
        "frames = [jan,fev, mar,abr,mai,jun,jul,ago,sete,out,nov,dez]\n",
        "mediames = pd.concat(frames)"
      ],
      "metadata": {
        "id": "MC136LLvEb_j"
      },
      "execution_count": null,
      "outputs": []
    },
    {
      "cell_type": "markdown",
      "source": [
        "Meidas novos casos, de jan até dez de 2021."
      ],
      "metadata": {
        "id": "QbMno92rFTbY"
      }
    },
    {
      "cell_type": "code",
      "source": [
        "mediames.plot(kind=\"bar\", y=\"daily_new_cases\")"
      ],
      "metadata": {
        "colab": {
          "base_uri": "https://localhost:8080/",
          "height": 314
        },
        "id": "Wah494YFE92p",
        "outputId": "23ee2963-cad9-43a3-91cb-9e4c89da77ee"
      },
      "execution_count": null,
      "outputs": [
        {
          "output_type": "execute_result",
          "data": {
            "text/plain": [
              "<matplotlib.axes._subplots.AxesSubplot at 0x7f9e1175a2d0>"
            ]
          },
          "metadata": {},
          "execution_count": 22
        },
        {
          "output_type": "display_data",
          "data": {
            "text/plain": [
              "<Figure size 432x288 with 1 Axes>"
            ],
            "image/png": "[encoded data removed]"
          },
          "metadata": {
            "needs_background": "light"
          }
        }
      ]
    },
    {
      "cell_type": "code",
      "source": [
        "mediames.plot(kind=\"bar\", y=\"daily_new_deaths\")"
      ],
      "metadata": {
        "colab": {
          "base_uri": "https://localhost:8080/",
          "height": 314
        },
        "id": "oTrFGfiWb7D_",
        "outputId": "26231b8b-feac-4b79-a91a-c55512ae17fb"
      },
      "execution_count": null,
      "outputs": [
        {
          "output_type": "execute_result",
          "data": {
            "text/plain": [
              "<matplotlib.axes._subplots.AxesSubplot at 0x7f9e115c0810>"
            ]
          },
          "metadata": {},
          "execution_count": 23
        },
        {
          "output_type": "display_data",
          "data": {
            "text/plain": [
              "<Figure size 432x288 with 1 Axes>"
            ],
            "image/png": "[encoded data removed]"
          },
          "metadata": {
            "needs_background": "light"
          }
        }
      ]
    },
    {
      "cell_type": "code",
      "source": [
        "start_date = '2022-1-15'\n",
        "end_date = '2022-2-15'\n",
        "mask = (df['date'] >= start_date) & (df['date'] <= end_date)\n",
        "jan = query_Brazil.loc[mask]\n",
        "jan=jan.groupby(['country']).mean()\n",
        "start_date = '2022-2-15'\n",
        "end_date = '2022-3-15'\n",
        "mask = (df['date'] >= start_date) & (df['date'] <= end_date)\n",
        "fev = query_Brazil.loc[mask]\n",
        "fev=fev.groupby(['country']).mean() \n",
        "start_date = '2022-3-15'\n",
        "end_date = '2022-4-15'\n",
        "mask = (df['date'] >= start_date) & (df['date'] <= end_date)\n",
        "mar = query_Brazil.loc[mask]\n",
        "mar=mar.groupby(['country']).mean() \n",
        "start_date = '2022-4-15'\n",
        "end_date = '2022-5-15'\n",
        "mask = (df['date'] >= start_date) & (df['date'] <= end_date)\n",
        "abr = query_Brazil.loc[mask]\n",
        "abr=abr.groupby(['country']).mean() \n"
      ],
      "metadata": {
        "id": "oPSzDr3XNgMk"
      },
      "execution_count": null,
      "outputs": []
    },
    {
      "cell_type": "code",
      "source": [
        "frames = [jan,fev,mar,abr]\n",
        "mediames = pd.concat(frames)"
      ],
      "metadata": {
        "id": "xHLxx9AgQREi"
      },
      "execution_count": null,
      "outputs": []
    },
    {
      "cell_type": "markdown",
      "source": [
        "Ano 2022 de janeiro a abril "
      ],
      "metadata": {
        "id": "1DpKo7SENRNI"
      }
    },
    {
      "cell_type": "code",
      "source": [
        "mediames.plot(kind=\"bar\", y=\"daily_new_cases\")"
      ],
      "metadata": {
        "colab": {
          "base_uri": "https://localhost:8080/",
          "height": 314
        },
        "id": "61U2bLyGM3Ut",
        "outputId": "2594f6bd-d1af-461c-f451-1014ae7affda"
      },
      "execution_count": null,
      "outputs": [
        {
          "output_type": "execute_result",
          "data": {
            "text/plain": [
              "<matplotlib.axes._subplots.AxesSubplot at 0x7f9e114ea5d0>"
            ]
          },
          "metadata": {},
          "execution_count": 26
        },
        {
          "output_type": "display_data",
          "data": {
            "text/plain": [
              "<Figure size 432x288 with 1 Axes>"
            ],
            "image/png": "[encoded data removed]"
          },
          "metadata": {
            "needs_background": "light"
          }
        }
      ]
    },
    {
      "cell_type": "code",
      "source": [
        "mediames.plot(kind=\"bar\", y=\"daily_new_deaths\")"
      ],
      "metadata": {
        "colab": {
          "base_uri": "https://localhost:8080/",
          "height": 314
        },
        "id": "2eauAMdTcGcH",
        "outputId": "ef5addad-a974-490b-8e0e-8582ff20c39e"
      },
      "execution_count": null,
      "outputs": [
        {
          "output_type": "execute_result",
          "data": {
            "text/plain": [
              "<matplotlib.axes._subplots.AxesSubplot at 0x7f9e11465110>"
            ]
          },
          "metadata": {},
          "execution_count": 27
        },
        {
          "output_type": "display_data",
          "data": {
            "text/plain": [
              "<Figure size 432x288 with 1 Axes>"
            ],
            "image/png": "[encoded data removed]"
          },
          "metadata": {
            "needs_background": "light"
          }
        }
      ]
    },
    {
      "cell_type": "code",
      "source": [
        "start_date = '2020-1-01'\n",
        "end_date = '2020-6-1'\n",
        "mask = (df['date'] >= start_date) & (df['date'] <= end_date)\n",
        "sem1 = query_Brazil.loc[mask]\n",
        "sem1=sem1.groupby(['country']).mean()\n",
        "start_date = '2020-06-01'\n",
        "end_date = '2021-01-01'\n",
        "mask = (df['date'] >= start_date) & (df['date'] <= end_date)\n",
        "sem2 = query_Brazil.loc[mask]\n",
        "sem2=sem2.groupby(['country']).mean() \n",
        "start_date = '2021-1-02'\n",
        "end_date = '2021-6-01'\n",
        "mask = (df['date'] >= start_date) & (df['date'] <= end_date)\n",
        "sem3 = query_Brazil.loc[mask]\n",
        "sem3=sem3.groupby(['country']).mean() \n",
        "start_date = '2021-06-01'\n",
        "end_date = '2022-01-01'\n",
        "mask = (df['date'] >= start_date) & (df['date'] <= end_date)\n",
        "sem4 = query_Brazil.loc[mask]\n",
        "sem4=sem4.groupby(['country']).mean() \n",
        "start_date = '2022-1-15'\n",
        "end_date = '2022-4-25'\n",
        "mask = (df['date'] >= start_date) & (df['date'] <= end_date)\n",
        "sem5= query_Brazil.loc[mask]\n",
        "sem5=sem5.groupby(['country']).mean() "
      ],
      "metadata": {
        "id": "uXN-CoaxMhbd"
      },
      "execution_count": null,
      "outputs": []
    },
    {
      "cell_type": "code",
      "source": [
        "frames = [sem1,sem2,sem3,sem4,sem5]\n",
        "mediasem = pd.concat(frames)"
      ],
      "metadata": {
        "id": "NfZoxPkRMxt8"
      },
      "execution_count": null,
      "outputs": []
    },
    {
      "cell_type": "markdown",
      "source": [
        "Semestres:"
      ],
      "metadata": {
        "id": "-uV9U953NeEz"
      }
    },
    {
      "cell_type": "code",
      "source": [
        "mediasem.plot(kind=\"bar\", y=\"daily_new_cases\")"
      ],
      "metadata": {
        "colab": {
          "base_uri": "https://localhost:8080/",
          "height": 314
        },
        "id": "nUzgdBdYQZVy",
        "outputId": "03ce2439-b9c1-4727-dd8d-352a5a5ce34c"
      },
      "execution_count": null,
      "outputs": [
        {
          "output_type": "execute_result",
          "data": {
            "text/plain": [
              "<matplotlib.axes._subplots.AxesSubplot at 0x7f9e113e7210>"
            ]
          },
          "metadata": {},
          "execution_count": 30
        },
        {
          "output_type": "display_data",
          "data": {
            "text/plain": [
              "<Figure size 432x288 with 1 Axes>"
            ],
            "image/png": "[encoded data removed]"
          },
          "metadata": {
            "needs_background": "light"
          }
        }
      ]
    },
    {
      "cell_type": "code",
      "source": [
        "mediasem.plot(kind=\"bar\", y=\"daily_new_deaths\")"
      ],
      "metadata": {
        "colab": {
          "base_uri": "https://localhost:8080/",
          "height": 314
        },
        "id": "YyE42aZjcMR8",
        "outputId": "e3ec5929-70c4-47d9-8a96-cf57f5639fb5"
      },
      "execution_count": null,
      "outputs": [
        {
          "output_type": "execute_result",
          "data": {
            "text/plain": [
              "<matplotlib.axes._subplots.AxesSubplot at 0x7f9e1145ce50>"
            ]
          },
          "metadata": {},
          "execution_count": 31
        },
        {
          "output_type": "display_data",
          "data": {
            "text/plain": [
              "<Figure size 432x288 with 1 Axes>"
            ],
            "image/png": "[encoded data removed]"
          },
          "metadata": {
            "needs_background": "light"
          }
        }
      ]
    }
  ]
}