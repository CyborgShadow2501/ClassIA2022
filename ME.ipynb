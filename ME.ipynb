{
  "nbformat": 4,
  "nbformat_minor": 0,
  "metadata": {
    "colab": {
      "name": "ME",
      "provenance": [],
      "collapsed_sections": []
    },
    "kernelspec": {
      "name": "python3",
      "display_name": "Python 3"
    },
    "language_info": {
      "name": "python"
    }
  },
  "cells": [
    {
      "cell_type": "code",
      "execution_count": 23,
      "metadata": {
        "id": "H7GNca1RfV34"
      },
      "outputs": [],
      "source": [
        "import pandas as pd\n",
        "from sklearn.model_selection import train_test_split\n",
        "from sklearn.preprocessing import LabelEncoder\n",
        "\n",
        "df = pd.read_csv('zoo.csv')\n",
        "\n",
        "previsor = df.iloc[:, 0:16].values\n",
        "classe = df.iloc[:, 17].values "
      ]
    },
    {
      "cell_type": "code",
      "source": [
        "lenc = LabelEncoder()\n",
        "previsor[:, 0] = lenc.fit_transform(previsor[:, 0])\n",
        "\n",
        "x_treino, x_teste, y_treino, y_teste = train_test_split(previsor, classe, test_size = 0.3, random_state = 1)"
      ],
      "metadata": {
        "id": "apsCeVx0U6jx"
      },
      "execution_count": 18,
      "outputs": []
    },
    {
      "cell_type": "code",
      "source": [
        "from sklearn.naive_bayes import GaussianNB\n",
        "from sklearn.tree import DecisionTreeClassifier\n",
        "from sklearn.metrics import accuracy_score\n",
        "\n",
        "modelonb = GaussianNB()\n",
        "modelonb = modelonb.fit(x_treino, y_treino)\n",
        "preditornb = modelonb.predict(x_teste)\n",
        "\n",
        "\n",
        "modelotree = DecisionTreeClassifier()\n",
        "modelotree = modelotree.fit(x_treino, y_treino)\n",
        "preditortree = modelotree.predict(x_teste)"
      ],
      "metadata": {
        "id": "Nzz7ZSJRVbae"
      },
      "execution_count": 21,
      "outputs": []
    },
    {
      "cell_type": "code",
      "source": [
        "from sklearn.metrics import confusion_matrix\n",
        "taxa_acerto = accuracy_score(y_teste, preditornb)\n",
        "taxa_erro = 1 - taxa_acerto\n",
        "print(\"Naive Bayes\")\n",
        "print(\"Taxa de acerto:\")\n",
        "print(taxa_acerto)\n",
        "print(\"Taxa de erro:\")\n",
        "print(taxa_erro)\n",
        "print(\"-------\")\n",
        "print(confusion_matrix(y_teste,preditornb))\n",
        "\n",
        "taxa_acerto = accuracy_score(y_teste, preditortree)\n",
        "taxa_erro = 1 - taxa_acerto\n",
        "print(\"Arvore\")\n",
        "print(\"Taxa de acerto:\")\n",
        "print(taxa_acerto)\n",
        "print(\"Taxa de erro:\")\n",
        "print(taxa_erro)\n",
        "print(\"-------\")\n",
        "print(confusion_matrix(y_teste, preditortree))"
      ],
      "metadata": {
        "colab": {
          "base_uri": "https://localhost:8080/"
        },
        "id": "0tOgAbxFWegR",
        "outputId": "1e5eceff-7fa6-429a-d799-12fe37508e6f"
      },
      "execution_count": 25,
      "outputs": [
        {
          "output_type": "stream",
          "name": "stdout",
          "text": [
            "Naive Bayes\n",
            "Taxa de acerto:\n",
            "0.967741935483871\n",
            "Taxa de erro:\n",
            "0.032258064516129004\n",
            "-------\n",
            "[[15  0  0  0  0  0  0]\n",
            " [ 0  5  0  0  0  0  0]\n",
            " [ 0  0  1  0  0  0  0]\n",
            " [ 0  0  0  3  0  0  0]\n",
            " [ 0  0  1  0  0  0  0]\n",
            " [ 0  0  0  0  0  3  0]\n",
            " [ 0  0  0  0  0  0  3]]\n",
            "Arvore\n",
            "Taxa de acerto:\n",
            "0.9354838709677419\n",
            "Taxa de erro:\n",
            "0.06451612903225812\n",
            "-------\n",
            "[[15  0  0  0  0  0  0]\n",
            " [ 0  5  0  0  0  0  0]\n",
            " [ 0  0  1  0  0  0  0]\n",
            " [ 0  0  0  3  0  0  0]\n",
            " [ 0  0  1  0  0  0  0]\n",
            " [ 0  0  0  0  0  2  1]\n",
            " [ 0  0  0  0  0  0  3]]\n"
          ]
        }
      ]
    }
  ]
}