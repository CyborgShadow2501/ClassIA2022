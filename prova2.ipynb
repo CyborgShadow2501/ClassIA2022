{
  "cells": [
    {
      "cell_type": "code",
      "execution_count": 2,
      "metadata": {
        "id": "1OZWG2xEPqAs"
      },
      "outputs": [],
      "source": [
        "import pandas as pd\n",
        "import numpy as np"
      ]
    },
    {
      "cell_type": "code",
      "execution_count": 3,
      "metadata": {
        "id": "zr42xhKDPqAx"
      },
      "outputs": [],
      "source": [
        "df = pd.read_csv(\"worldometer_coronavirus_daily_data.csv\")\n",
        "df2 = pd.read_csv(\"worldometer_coronavirus_summary_data.csv\")"
      ]
    },
    {
      "cell_type": "code",
      "execution_count": 3,
      "metadata": {
        "colab": {
          "base_uri": "https://localhost:8080/"
        },
        "id": "-MGBl9F7PqAy",
        "outputId": "a70ab0c0-60da-44a9-a7a0-14aa432de7a6"
      },
      "outputs": [
        {
          "name": "stdout",
          "output_type": "stream",
          "text": [
            "(184787, 7)\n",
            "(226, 12)\n"
          ]
        }
      ],
      "source": [
        "print(df.shape)\n",
        "print(df2.shape)"
      ]
    },
    {
      "cell_type": "code",
      "execution_count": 4,
      "metadata": {
        "colab": {
          "base_uri": "https://localhost:8080/",
          "height": 206
        },
        "id": "llMWsvmMPqA0",
        "outputId": "73cea54d-5060-4cd1-8322-3783fb425516"
      },
      "outputs": [
        {
          "data": {
            "text/html": [
              "<div>\n",
              "<style scoped>\n",
              "    .dataframe tbody tr th:only-of-type {\n",
              "        vertical-align: middle;\n",
              "    }\n",
              "\n",
              "    .dataframe tbody tr th {\n",
              "        vertical-align: top;\n",
              "    }\n",
              "\n",
              "    .dataframe thead th {\n",
              "        text-align: right;\n",
              "    }\n",
              "</style>\n",
              "<table border=\"1\" class=\"dataframe\">\n",
              "  <thead>\n",
              "    <tr style=\"text-align: right;\">\n",
              "      <th></th>\n",
              "      <th>date</th>\n",
              "      <th>country</th>\n",
              "      <th>cumulative_total_cases</th>\n",
              "      <th>daily_new_cases</th>\n",
              "      <th>active_cases</th>\n",
              "      <th>cumulative_total_deaths</th>\n",
              "      <th>daily_new_deaths</th>\n",
              "    </tr>\n",
              "  </thead>\n",
              "  <tbody>\n",
              "    <tr>\n",
              "      <th>0</th>\n",
              "      <td>2020-2-15</td>\n",
              "      <td>Afghanistan</td>\n",
              "      <td>0.0</td>\n",
              "      <td>NaN</td>\n",
              "      <td>0.0</td>\n",
              "      <td>0.0</td>\n",
              "      <td>NaN</td>\n",
              "    </tr>\n",
              "    <tr>\n",
              "      <th>1</th>\n",
              "      <td>2020-2-16</td>\n",
              "      <td>Afghanistan</td>\n",
              "      <td>0.0</td>\n",
              "      <td>NaN</td>\n",
              "      <td>0.0</td>\n",
              "      <td>0.0</td>\n",
              "      <td>NaN</td>\n",
              "    </tr>\n",
              "    <tr>\n",
              "      <th>2</th>\n",
              "      <td>2020-2-17</td>\n",
              "      <td>Afghanistan</td>\n",
              "      <td>0.0</td>\n",
              "      <td>NaN</td>\n",
              "      <td>0.0</td>\n",
              "      <td>0.0</td>\n",
              "      <td>NaN</td>\n",
              "    </tr>\n",
              "    <tr>\n",
              "      <th>3</th>\n",
              "      <td>2020-2-18</td>\n",
              "      <td>Afghanistan</td>\n",
              "      <td>0.0</td>\n",
              "      <td>NaN</td>\n",
              "      <td>0.0</td>\n",
              "      <td>0.0</td>\n",
              "      <td>NaN</td>\n",
              "    </tr>\n",
              "    <tr>\n",
              "      <th>4</th>\n",
              "      <td>2020-2-19</td>\n",
              "      <td>Afghanistan</td>\n",
              "      <td>0.0</td>\n",
              "      <td>NaN</td>\n",
              "      <td>0.0</td>\n",
              "      <td>0.0</td>\n",
              "      <td>NaN</td>\n",
              "    </tr>\n",
              "  </tbody>\n",
              "</table>\n",
              "</div>"
            ],
            "text/plain": [
              "        date      country  cumulative_total_cases  daily_new_cases  \\\n",
              "0  2020-2-15  Afghanistan                     0.0              NaN   \n",
              "1  2020-2-16  Afghanistan                     0.0              NaN   \n",
              "2  2020-2-17  Afghanistan                     0.0              NaN   \n",
              "3  2020-2-18  Afghanistan                     0.0              NaN   \n",
              "4  2020-2-19  Afghanistan                     0.0              NaN   \n",
              "\n",
              "   active_cases  cumulative_total_deaths  daily_new_deaths  \n",
              "0           0.0                      0.0               NaN  \n",
              "1           0.0                      0.0               NaN  \n",
              "2           0.0                      0.0               NaN  \n",
              "3           0.0                      0.0               NaN  \n",
              "4           0.0                      0.0               NaN  "
            ]
          },
          "execution_count": 4,
          "metadata": {},
          "output_type": "execute_result"
        }
      ],
      "source": [
        "df.head()"
      ]
    },
    {
      "cell_type": "code",
      "execution_count": 5,
      "metadata": {
        "colab": {
          "base_uri": "https://localhost:8080/",
          "height": 270
        },
        "id": "Y9UJG8yVPqA0",
        "outputId": "475999a4-e110-42db-d848-8b3da899721b"
      },
      "outputs": [
        {
          "data": {
            "text/html": [
              "<div>\n",
              "<style scoped>\n",
              "    .dataframe tbody tr th:only-of-type {\n",
              "        vertical-align: middle;\n",
              "    }\n",
              "\n",
              "    .dataframe tbody tr th {\n",
              "        vertical-align: top;\n",
              "    }\n",
              "\n",
              "    .dataframe thead th {\n",
              "        text-align: right;\n",
              "    }\n",
              "</style>\n",
              "<table border=\"1\" class=\"dataframe\">\n",
              "  <thead>\n",
              "    <tr style=\"text-align: right;\">\n",
              "      <th></th>\n",
              "      <th>country</th>\n",
              "      <th>continent</th>\n",
              "      <th>total_confirmed</th>\n",
              "      <th>total_deaths</th>\n",
              "      <th>total_recovered</th>\n",
              "      <th>active_cases</th>\n",
              "      <th>serious_or_critical</th>\n",
              "      <th>total_cases_per_1m_population</th>\n",
              "      <th>total_deaths_per_1m_population</th>\n",
              "      <th>total_tests</th>\n",
              "      <th>total_tests_per_1m_population</th>\n",
              "      <th>population</th>\n",
              "    </tr>\n",
              "  </thead>\n",
              "  <tbody>\n",
              "    <tr>\n",
              "      <th>0</th>\n",
              "      <td>Afghanistan</td>\n",
              "      <td>Asia</td>\n",
              "      <td>179267</td>\n",
              "      <td>7690.0</td>\n",
              "      <td>162202.0</td>\n",
              "      <td>9375.0</td>\n",
              "      <td>1124.0</td>\n",
              "      <td>4420</td>\n",
              "      <td>190.0</td>\n",
              "      <td>951337.0</td>\n",
              "      <td>23455.0</td>\n",
              "      <td>40560636</td>\n",
              "    </tr>\n",
              "    <tr>\n",
              "      <th>1</th>\n",
              "      <td>Albania</td>\n",
              "      <td>Europe</td>\n",
              "      <td>275574</td>\n",
              "      <td>3497.0</td>\n",
              "      <td>271826.0</td>\n",
              "      <td>251.0</td>\n",
              "      <td>2.0</td>\n",
              "      <td>95954</td>\n",
              "      <td>1218.0</td>\n",
              "      <td>1817530.0</td>\n",
              "      <td>632857.0</td>\n",
              "      <td>2871945</td>\n",
              "    </tr>\n",
              "    <tr>\n",
              "      <th>2</th>\n",
              "      <td>Algeria</td>\n",
              "      <td>Africa</td>\n",
              "      <td>265816</td>\n",
              "      <td>6875.0</td>\n",
              "      <td>178371.0</td>\n",
              "      <td>80570.0</td>\n",
              "      <td>6.0</td>\n",
              "      <td>5865</td>\n",
              "      <td>152.0</td>\n",
              "      <td>230861.0</td>\n",
              "      <td>5093.0</td>\n",
              "      <td>45325517</td>\n",
              "    </tr>\n",
              "    <tr>\n",
              "      <th>3</th>\n",
              "      <td>Andorra</td>\n",
              "      <td>Europe</td>\n",
              "      <td>42156</td>\n",
              "      <td>153.0</td>\n",
              "      <td>41021.0</td>\n",
              "      <td>982.0</td>\n",
              "      <td>14.0</td>\n",
              "      <td>543983</td>\n",
              "      <td>1974.0</td>\n",
              "      <td>249838.0</td>\n",
              "      <td>3223924.0</td>\n",
              "      <td>77495</td>\n",
              "    </tr>\n",
              "    <tr>\n",
              "      <th>4</th>\n",
              "      <td>Angola</td>\n",
              "      <td>Africa</td>\n",
              "      <td>99194</td>\n",
              "      <td>1900.0</td>\n",
              "      <td>97149.0</td>\n",
              "      <td>145.0</td>\n",
              "      <td>NaN</td>\n",
              "      <td>2853</td>\n",
              "      <td>55.0</td>\n",
              "      <td>1499795.0</td>\n",
              "      <td>43136.0</td>\n",
              "      <td>34769277</td>\n",
              "    </tr>\n",
              "  </tbody>\n",
              "</table>\n",
              "</div>"
            ],
            "text/plain": [
              "       country continent  total_confirmed  total_deaths  total_recovered  \\\n",
              "0  Afghanistan      Asia           179267        7690.0         162202.0   \n",
              "1      Albania    Europe           275574        3497.0         271826.0   \n",
              "2      Algeria    Africa           265816        6875.0         178371.0   \n",
              "3      Andorra    Europe            42156         153.0          41021.0   \n",
              "4       Angola    Africa            99194        1900.0          97149.0   \n",
              "\n",
              "   active_cases  serious_or_critical  total_cases_per_1m_population  \\\n",
              "0        9375.0               1124.0                           4420   \n",
              "1         251.0                  2.0                          95954   \n",
              "2       80570.0                  6.0                           5865   \n",
              "3         982.0                 14.0                         543983   \n",
              "4         145.0                  NaN                           2853   \n",
              "\n",
              "   total_deaths_per_1m_population  total_tests  total_tests_per_1m_population  \\\n",
              "0                           190.0     951337.0                        23455.0   \n",
              "1                          1218.0    1817530.0                       632857.0   \n",
              "2                           152.0     230861.0                         5093.0   \n",
              "3                          1974.0     249838.0                      3223924.0   \n",
              "4                            55.0    1499795.0                        43136.0   \n",
              "\n",
              "   population  \n",
              "0    40560636  \n",
              "1     2871945  \n",
              "2    45325517  \n",
              "3       77495  \n",
              "4    34769277  "
            ]
          },
          "execution_count": 5,
          "metadata": {},
          "output_type": "execute_result"
        }
      ],
      "source": [
        "df2.head()"
      ]
    },
    {
      "cell_type": "code",
      "execution_count": 6,
      "metadata": {
        "id": "O4dM815-PqA1"
      },
      "outputs": [],
      "source": [
        "df3=df2.groupby(['continent']).sum()"
      ]
    },
    {
      "cell_type": "code",
      "execution_count": 7,
      "metadata": {
        "colab": {
          "base_uri": "https://localhost:8080/",
          "height": 301
        },
        "id": "RSDQRCWEPqA2",
        "outputId": "b5dd9918-5ea1-4120-ff5c-263cfa359cd3"
      },
      "outputs": [
        {
          "data": {
            "text/html": [
              "<div>\n",
              "<style scoped>\n",
              "    .dataframe tbody tr th:only-of-type {\n",
              "        vertical-align: middle;\n",
              "    }\n",
              "\n",
              "    .dataframe tbody tr th {\n",
              "        vertical-align: top;\n",
              "    }\n",
              "\n",
              "    .dataframe thead th {\n",
              "        text-align: right;\n",
              "    }\n",
              "</style>\n",
              "<table border=\"1\" class=\"dataframe\">\n",
              "  <thead>\n",
              "    <tr style=\"text-align: right;\">\n",
              "      <th></th>\n",
              "      <th>total_confirmed</th>\n",
              "      <th>total_deaths</th>\n",
              "      <th>total_recovered</th>\n",
              "      <th>active_cases</th>\n",
              "      <th>serious_or_critical</th>\n",
              "      <th>total_cases_per_1m_population</th>\n",
              "      <th>total_deaths_per_1m_population</th>\n",
              "      <th>total_tests</th>\n",
              "      <th>total_tests_per_1m_population</th>\n",
              "      <th>population</th>\n",
              "    </tr>\n",
              "    <tr>\n",
              "      <th>continent</th>\n",
              "      <th></th>\n",
              "      <th></th>\n",
              "      <th></th>\n",
              "      <th></th>\n",
              "      <th></th>\n",
              "      <th></th>\n",
              "      <th></th>\n",
              "      <th></th>\n",
              "      <th></th>\n",
              "      <th></th>\n",
              "    </tr>\n",
              "  </thead>\n",
              "  <tbody>\n",
              "    <tr>\n",
              "      <th>Africa</th>\n",
              "      <td>12042400</td>\n",
              "      <td>254319.0</td>\n",
              "      <td>10137200.0</td>\n",
              "      <td>497766.0</td>\n",
              "      <td>966.0</td>\n",
              "      <td>1894093</td>\n",
              "      <td>17982.0</td>\n",
              "      <td>1.021264e+08</td>\n",
              "      <td>10540422.0</td>\n",
              "      <td>1400358940</td>\n",
              "    </tr>\n",
              "    <tr>\n",
              "      <th>Asia</th>\n",
              "      <td>149999659</td>\n",
              "      <td>1427939.0</td>\n",
              "      <td>126145273.0</td>\n",
              "      <td>3260318.0</td>\n",
              "      <td>11768.0</td>\n",
              "      <td>5316204</td>\n",
              "      <td>31429.0</td>\n",
              "      <td>2.117785e+09</td>\n",
              "      <td>81570774.0</td>\n",
              "      <td>4672455975</td>\n",
              "    </tr>\n",
              "    <tr>\n",
              "      <th>Australia/Oceania</th>\n",
              "      <td>7942867</td>\n",
              "      <td>11413.0</td>\n",
              "      <td>7403813.0</td>\n",
              "      <td>455469.0</td>\n",
              "      <td>162.0</td>\n",
              "      <td>1862950</td>\n",
              "      <td>6467.0</td>\n",
              "      <td>7.960052e+07</td>\n",
              "      <td>15975715.0</td>\n",
              "      <td>43505620</td>\n",
              "    </tr>\n",
              "    <tr>\n",
              "      <th>Europe</th>\n",
              "      <td>194330079</td>\n",
              "      <td>1830655.0</td>\n",
              "      <td>170861871.0</td>\n",
              "      <td>5841832.0</td>\n",
              "      <td>8050.0</td>\n",
              "      <td>15377171</td>\n",
              "      <td>113334.0</td>\n",
              "      <td>2.675603e+09</td>\n",
              "      <td>201007918.0</td>\n",
              "      <td>748470690</td>\n",
              "    </tr>\n",
              "    <tr>\n",
              "      <th>North America</th>\n",
              "      <td>99625662</td>\n",
              "      <td>1467234.0</td>\n",
              "      <td>94818163.0</td>\n",
              "      <td>3329149.0</td>\n",
              "      <td>7460.0</td>\n",
              "      <td>7011745</td>\n",
              "      <td>51579.0</td>\n",
              "      <td>1.137409e+09</td>\n",
              "      <td>90468341.0</td>\n",
              "      <td>597707388</td>\n",
              "    </tr>\n",
              "  </tbody>\n",
              "</table>\n",
              "</div>"
            ],
            "text/plain": [
              "                   total_confirmed  total_deaths  total_recovered  \\\n",
              "continent                                                           \n",
              "Africa                    12042400      254319.0       10137200.0   \n",
              "Asia                     149999659     1427939.0      126145273.0   \n",
              "Australia/Oceania          7942867       11413.0        7403813.0   \n",
              "Europe                   194330079     1830655.0      170861871.0   \n",
              "North America             99625662     1467234.0       94818163.0   \n",
              "\n",
              "                   active_cases  serious_or_critical  \\\n",
              "continent                                              \n",
              "Africa                 497766.0                966.0   \n",
              "Asia                  3260318.0              11768.0   \n",
              "Australia/Oceania      455469.0                162.0   \n",
              "Europe                5841832.0               8050.0   \n",
              "North America         3329149.0               7460.0   \n",
              "\n",
              "                   total_cases_per_1m_population  \\\n",
              "continent                                          \n",
              "Africa                                   1894093   \n",
              "Asia                                     5316204   \n",
              "Australia/Oceania                        1862950   \n",
              "Europe                                  15377171   \n",
              "North America                            7011745   \n",
              "\n",
              "                   total_deaths_per_1m_population   total_tests  \\\n",
              "continent                                                         \n",
              "Africa                                    17982.0  1.021264e+08   \n",
              "Asia                                      31429.0  2.117785e+09   \n",
              "Australia/Oceania                          6467.0  7.960052e+07   \n",
              "Europe                                   113334.0  2.675603e+09   \n",
              "North America                             51579.0  1.137409e+09   \n",
              "\n",
              "                   total_tests_per_1m_population  population  \n",
              "continent                                                     \n",
              "Africa                                10540422.0  1400358940  \n",
              "Asia                                  81570774.0  4672455975  \n",
              "Australia/Oceania                     15975715.0    43505620  \n",
              "Europe                               201007918.0   748470690  \n",
              "North America                         90468341.0   597707388  "
            ]
          },
          "execution_count": 7,
          "metadata": {},
          "output_type": "execute_result"
        }
      ],
      "source": [
        "df3.head()"
      ]
    },
    {
      "cell_type": "markdown",
      "metadata": {
        "id": "UWVKlJsSX0Jm"
      },
      "source": [
        "Total de novos casos por dia:"
      ]
    },
    {
      "cell_type": "code",
      "execution_count": 8,
      "metadata": {
        "colab": {
          "base_uri": "https://localhost:8080/",
          "height": 437
        },
        "id": "TG4K_slzW7IM",
        "outputId": "3f32360b-b688-40d5-922e-ab2628cb38fc"
      },
      "outputs": [
        {
          "data": {
            "text/plain": [
              "<AxesSubplot:xlabel='date'>"
            ]
          },
          "execution_count": 8,
          "metadata": {},
          "output_type": "execute_result"
        },
        {
          "data": {
            "image/png": "[encoded data removed]",
            "text/plain": [
              "<Figure size 2160x720 with 1 Axes>"
            ]
          },
          "metadata": {
            "needs_background": "light"
          },
          "output_type": "display_data"
        }
      ],
      "source": [
        "df4_date=df.groupby(['date']).sum()\n",
        "df4_date.plot(kind=\"bar\", y=\"daily_new_cases\",figsize=(30,10))"
      ]
    },
    {
      "cell_type": "markdown",
      "metadata": {
        "id": "AJYSr_vWT5QI"
      },
      "source": [
        "Comparação por Continente:\n",
        "Mortes:"
      ]
    },
    {
      "cell_type": "code",
      "execution_count": 9,
      "metadata": {
        "colab": {
          "base_uri": "https://localhost:8080/",
          "height": 386
        },
        "id": "qAAcWW5cPqA3",
        "outputId": "f4951ca1-778c-4e44-dd32-28b0ef6dd0d2"
      },
      "outputs": [
        {
          "data": {
            "text/plain": [
              "<AxesSubplot:xlabel='continent'>"
            ]
          },
          "execution_count": 9,
          "metadata": {},
          "output_type": "execute_result"
        },
        {
          "data": {
            "image/png": "[encoded data removed]",
            "text/plain": [
              "<Figure size 432x288 with 1 Axes>"
            ]
          },
          "metadata": {
            "needs_background": "light"
          },
          "output_type": "display_data"
        }
      ],
      "source": [
        "df3.plot(kind=\"bar\", y=\"total_deaths\")"
      ]
    },
    {
      "cell_type": "markdown",
      "metadata": {
        "id": "N1haH0dXT9wn"
      },
      "source": [
        "Recuperados:"
      ]
    },
    {
      "cell_type": "code",
      "execution_count": 10,
      "metadata": {
        "colab": {
          "base_uri": "https://localhost:8080/",
          "height": 386
        },
        "id": "YKCDz5MQPqA4",
        "outputId": "361e58f8-9a39-4d59-bdfb-401ef40b8078"
      },
      "outputs": [
        {
          "data": {
            "text/plain": [
              "<AxesSubplot:xlabel='continent'>"
            ]
          },
          "execution_count": 10,
          "metadata": {},
          "output_type": "execute_result"
        },
        {
          "data": {
            "image/png": "[encoded data removed]",
            "text/plain": [
              "<Figure size 432x288 with 1 Axes>"
            ]
          },
          "metadata": {
            "needs_background": "light"
          },
          "output_type": "display_data"
        }
      ],
      "source": [
        "df3.plot(kind=\"bar\", y=\"total_recovered\")"
      ]
    },
    {
      "cell_type": "markdown",
      "metadata": {
        "id": "dNMAjEX3USgg"
      },
      "source": [
        "Casos Confirmados:"
      ]
    },
    {
      "cell_type": "code",
      "execution_count": 11,
      "metadata": {
        "colab": {
          "base_uri": "https://localhost:8080/",
          "height": 386
        },
        "id": "D6aGEuLoUFMN",
        "outputId": "e812cebe-1c57-44a7-ac01-91b9c30e5df0"
      },
      "outputs": [
        {
          "data": {
            "text/plain": [
              "<AxesSubplot:xlabel='continent'>"
            ]
          },
          "execution_count": 11,
          "metadata": {},
          "output_type": "execute_result"
        },
        {
          "data": {
            "image/png": "[encoded data removed]",
            "text/plain": [
              "<Figure size 432x288 with 1 Axes>"
            ]
          },
          "metadata": {
            "needs_background": "light"
          },
          "output_type": "display_data"
        }
      ],
      "source": [
        "df3.plot(kind=\"bar\", y=\"total_confirmed\")"
      ]
    },
    {
      "cell_type": "markdown",
      "metadata": {
        "id": "3sNxGDzvUYjG"
      },
      "source": [
        "Média, casos por 1 milhão:"
      ]
    },
    {
      "cell_type": "code",
      "execution_count": 12,
      "metadata": {
        "colab": {
          "base_uri": "https://localhost:8080/",
          "height": 375
        },
        "id": "uKT-cf1pPqA5",
        "outputId": "58db2ca4-311c-4240-a5c4-931bc1cf26d6"
      },
      "outputs": [
        {
          "data": {
            "text/plain": [
              "<AxesSubplot:xlabel='continent'>"
            ]
          },
          "execution_count": 12,
          "metadata": {},
          "output_type": "execute_result"
        },
        {
          "data": {
            "image/png": "[encoded data removed]",
            "text/plain": [
              "<Figure size 432x288 with 1 Axes>"
            ]
          },
          "metadata": {
            "needs_background": "light"
          },
          "output_type": "display_data"
        }
      ],
      "source": [
        "df3_media=df2.groupby(['continent']).mean()\n",
        "df3_media.plot(kind=\"bar\", y=\"total_cases_per_1m_population\")"
      ]
    },
    {
      "cell_type": "code",
      "execution_count": 13,
      "metadata": {
        "id": "A5ucjLYBPqA6"
      },
      "outputs": [],
      "source": [
        "df4=df.groupby(['country']).mean()"
      ]
    },
    {
      "cell_type": "code",
      "execution_count": 14,
      "metadata": {
        "colab": {
          "base_uri": "https://localhost:8080/",
          "height": 510
        },
        "id": "S8G3rAfCPqA6",
        "outputId": "3d19631b-6e6a-47f6-9bc7-390b1d0eb2e5"
      },
      "outputs": [
        {
          "data": {
            "text/plain": [
              "<AxesSubplot:xlabel='country'>"
            ]
          },
          "execution_count": 14,
          "metadata": {},
          "output_type": "execute_result"
        },
        {
          "data": {
            "image/png": "[encoded data removed]",
            "text/plain": [
              "<Figure size 2160x720 with 1 Axes>"
            ]
          },
          "metadata": {
            "needs_background": "light"
          },
          "output_type": "display_data"
        }
      ],
      "source": [
        "df4.plot(kind=\"bar\", y=\"cumulative_total_cases\",figsize=(30,10))"
      ]
    },
    {
      "cell_type": "code",
      "execution_count": 15,
      "metadata": {
        "id": "Gg7opXcDPqA7"
      },
      "outputs": [],
      "source": [
        "from sklearn import preprocessing\n",
        "import pandas as pd\n",
        "from sklearn.cluster import KMeans\n",
        "from sklearn.preprocessing import StandardScaler\n",
        "import plotly.express as px\n",
        "import plotly.graph_objects as go \n",
        "from sklearn.datasets import make_blobs\n",
        "from sklearn.preprocessing import LabelEncoder"
      ]
    },
    {
      "cell_type": "code",
      "execution_count": 16,
      "metadata": {
        "id": "l1j9zDbVPqA8"
      },
      "outputs": [],
      "source": [
        "#preparando e executando Kmeans:\n",
        "df2_data = df2.iloc[:, :].values"
      ]
    },
    {
      "cell_type": "code",
      "execution_count": 17,
      "metadata": {
        "id": "M2T2bwT7PqA8"
      },
      "outputs": [],
      "source": [
        "lenc = LabelEncoder()"
      ]
    },
    {
      "cell_type": "code",
      "execution_count": 18,
      "metadata": {
        "id": "OmFxcOOWPqA9"
      },
      "outputs": [],
      "source": [
        "for i in range (0,2):\n",
        "  df2_data[:,i] = lenc.fit_transform(df2_data[:,i])"
      ]
    },
    {
      "cell_type": "code",
      "execution_count": 19,
      "metadata": {
        "id": "UwNz3asuPqA9"
      },
      "outputs": [],
      "source": [
        "from sklearn.pipeline import Pipeline\n",
        "from sklearn.preprocessing import StandardScaler\n",
        "from sklearn.impute import SimpleImputer\n",
        "\n",
        "num_pipeline = Pipeline([\n",
        "                         ('imputer', SimpleImputer(strategy='constant',fill_value=0)),\n",
        "                         ])"
      ]
    },
    {
      "cell_type": "code",
      "execution_count": 20,
      "metadata": {
        "id": "KUBF6lGcPqA9"
      },
      "outputs": [],
      "source": [
        "df2_data = num_pipeline.fit_transform(df2_data)"
      ]
    },
    {
      "cell_type": "code",
      "execution_count": 21,
      "metadata": {
        "id": "A-eHZNkKPqA-"
      },
      "outputs": [],
      "source": [
        "kmeans_df2_data = KMeans(n_clusters = 5, random_state=0)\n",
        "predicao = kmeans_df2_data.fit_predict(df2_data)"
      ]
    },
    {
      "cell_type": "code",
      "execution_count": 22,
      "metadata": {
        "colab": {
          "base_uri": "https://localhost:8080/"
        },
        "id": "I8FfoPIzPqA-",
        "outputId": "b22e52b9-5647-4f69-c451-170290cea274"
      },
      "outputs": [
        {
          "data": {
            "text/plain": [
              "array([[1.11900498e+02, 2.03980100e+00, 8.53576866e+05, 9.87833333e+03,\n",
              "        6.18466687e+05, 2.42620149e+04, 5.10348259e+01, 1.50270607e+05,\n",
              "        1.10383582e+03, 7.36766364e+06, 1.68482149e+06, 1.07564810e+07],\n",
              "       [6.80000000e+01, 1.00000000e+00, 2.16717015e+07, 2.64711500e+05,\n",
              "        2.13950735e+07, 1.19165000e+04, 5.40500000e+02, 1.54200000e+04,\n",
              "        1.88500000e+02, 5.01918457e+08, 3.55821000e+05, 1.42229840e+09],\n",
              "       [2.12000000e+02, 4.00000000e+00, 8.42094730e+07, 1.02664600e+06,\n",
              "        8.12442600e+07, 1.93856700e+06, 1.94100000e+03, 2.51659000e+05,\n",
              "        3.06800000e+03, 1.01688250e+09, 3.03893900e+06, 3.34617623e+08],\n",
              "       [1.46875000e+02, 2.50000000e+00, 1.48667549e+07, 1.36477250e+05,\n",
              "        1.43622000e+07, 3.68077625e+05, 7.00125000e+02, 2.70289625e+05,\n",
              "        1.97425000e+03, 2.82225647e+08, 8.14975075e+06, 6.15590922e+07],\n",
              "       [1.00714286e+02, 1.35714286e+00, 7.35866336e+06, 1.18189357e+05,\n",
              "        6.93955871e+06, 3.00915286e+05, 1.44242857e+03, 5.95879286e+04,\n",
              "        8.02571429e+02, 4.09969704e+07, 3.33432000e+05, 1.47581321e+08]])"
            ]
          },
          "execution_count": 22,
          "metadata": {},
          "output_type": "execute_result"
        }
      ],
      "source": [
        "centroid_covid = kmeans_df2_data.cluster_centers_\n",
        "centroid_covid"
      ]
    },
    {
      "cell_type": "code",
      "execution_count": 23,
      "metadata": {
        "id": "lgjhUXJSPqA_"
      },
      "outputs": [],
      "source": [
        "import plotly.express as px\n",
        "import plotly.graph_objects as go "
      ]
    },
    {
      "cell_type": "code",
      "execution_count": 24,
      "metadata": {
        "colab": {
          "base_uri": "https://localhost:8080/",
          "height": 542
        },
        "id": "qMym6ZDWPqA_",
        "outputId": "155b5aa5-e5f7-450b-bc1b-712412dca051"
      },
      "outputs": [
        {
          "ename": "ValueError",
          "evalue": "Mime type rendering requires nbformat>=4.2.0 but it is not installed",
          "output_type": "error",
          "traceback": [
            "\u001b[1;31m---------------------------------------------------------------------------\u001b[0m",
            "\u001b[1;31mValueError\u001b[0m                                Traceback (most recent call last)",
            "\u001b[1;32m~\\AppData\\Local\\Temp/ipykernel_12344/4129213589.py\u001b[0m in \u001b[0;36m<module>\u001b[1;34m\u001b[0m\n\u001b[0;32m      3\u001b[0m \u001b[0mgrafico_cluster_final\u001b[0m \u001b[1;33m=\u001b[0m \u001b[0mgo\u001b[0m\u001b[1;33m.\u001b[0m\u001b[0mFigure\u001b[0m\u001b[1;33m(\u001b[0m\u001b[0mdata\u001b[0m \u001b[1;33m=\u001b[0m \u001b[0mgrafico_predicao\u001b[0m\u001b[1;33m.\u001b[0m\u001b[0mdata\u001b[0m \u001b[1;33m+\u001b[0m \u001b[0mgrafico_cluster1\u001b[0m\u001b[1;33m.\u001b[0m\u001b[0mdata\u001b[0m\u001b[1;33m)\u001b[0m\u001b[1;33m\u001b[0m\u001b[1;33m\u001b[0m\u001b[0m\n\u001b[0;32m      4\u001b[0m \u001b[1;33m\u001b[0m\u001b[0m\n\u001b[1;32m----> 5\u001b[1;33m \u001b[0mgrafico_cluster_final\u001b[0m\u001b[1;33m.\u001b[0m\u001b[0mshow\u001b[0m\u001b[1;33m(\u001b[0m\u001b[1;33m)\u001b[0m\u001b[1;33m\u001b[0m\u001b[1;33m\u001b[0m\u001b[0m\n\u001b[0m",
            "\u001b[1;32m~\\AppData\\Local\\Packages\\PythonSoftwareFoundation.Python.3.9_qbz5n2kfra8p0\\LocalCache\\local-packages\\Python39\\site-packages\\plotly\\basedatatypes.py\u001b[0m in \u001b[0;36mshow\u001b[1;34m(self, *args, **kwargs)\u001b[0m\n\u001b[0;32m   3396\u001b[0m         \u001b[1;32mimport\u001b[0m \u001b[0mplotly\u001b[0m\u001b[1;33m.\u001b[0m\u001b[0mio\u001b[0m \u001b[1;32mas\u001b[0m \u001b[0mpio\u001b[0m\u001b[1;33m\u001b[0m\u001b[1;33m\u001b[0m\u001b[0m\n\u001b[0;32m   3397\u001b[0m \u001b[1;33m\u001b[0m\u001b[0m\n\u001b[1;32m-> 3398\u001b[1;33m         \u001b[1;32mreturn\u001b[0m \u001b[0mpio\u001b[0m\u001b[1;33m.\u001b[0m\u001b[0mshow\u001b[0m\u001b[1;33m(\u001b[0m\u001b[0mself\u001b[0m\u001b[1;33m,\u001b[0m \u001b[1;33m*\u001b[0m\u001b[0margs\u001b[0m\u001b[1;33m,\u001b[0m \u001b[1;33m**\u001b[0m\u001b[0mkwargs\u001b[0m\u001b[1;33m)\u001b[0m\u001b[1;33m\u001b[0m\u001b[1;33m\u001b[0m\u001b[0m\n\u001b[0m\u001b[0;32m   3399\u001b[0m \u001b[1;33m\u001b[0m\u001b[0m\n\u001b[0;32m   3400\u001b[0m     \u001b[1;32mdef\u001b[0m \u001b[0mto_json\u001b[0m\u001b[1;33m(\u001b[0m\u001b[0mself\u001b[0m\u001b[1;33m,\u001b[0m \u001b[1;33m*\u001b[0m\u001b[0margs\u001b[0m\u001b[1;33m,\u001b[0m \u001b[1;33m**\u001b[0m\u001b[0mkwargs\u001b[0m\u001b[1;33m)\u001b[0m\u001b[1;33m:\u001b[0m\u001b[1;33m\u001b[0m\u001b[1;33m\u001b[0m\u001b[0m\n",
            "\u001b[1;32m~\\AppData\\Local\\Packages\\PythonSoftwareFoundation.Python.3.9_qbz5n2kfra8p0\\LocalCache\\local-packages\\Python39\\site-packages\\plotly\\io\\_renderers.py\u001b[0m in \u001b[0;36mshow\u001b[1;34m(fig, renderer, validate, **kwargs)\u001b[0m\n\u001b[0;32m    394\u001b[0m \u001b[1;33m\u001b[0m\u001b[0m\n\u001b[0;32m    395\u001b[0m         \u001b[1;32mif\u001b[0m \u001b[1;32mnot\u001b[0m \u001b[0mnbformat\u001b[0m \u001b[1;32mor\u001b[0m \u001b[0mLooseVersion\u001b[0m\u001b[1;33m(\u001b[0m\u001b[0mnbformat\u001b[0m\u001b[1;33m.\u001b[0m\u001b[0m__version__\u001b[0m\u001b[1;33m)\u001b[0m \u001b[1;33m<\u001b[0m \u001b[0mLooseVersion\u001b[0m\u001b[1;33m(\u001b[0m\u001b[1;34m\"4.2.0\"\u001b[0m\u001b[1;33m)\u001b[0m\u001b[1;33m:\u001b[0m\u001b[1;33m\u001b[0m\u001b[1;33m\u001b[0m\u001b[0m\n\u001b[1;32m--> 396\u001b[1;33m             raise ValueError(\n\u001b[0m\u001b[0;32m    397\u001b[0m                 \u001b[1;34m\"Mime type rendering requires nbformat>=4.2.0 but it is not installed\"\u001b[0m\u001b[1;33m\u001b[0m\u001b[1;33m\u001b[0m\u001b[0m\n\u001b[0;32m    398\u001b[0m             )\n",
            "\u001b[1;31mValueError\u001b[0m: Mime type rendering requires nbformat>=4.2.0 but it is not installed"
          ]
        }
      ],
      "source": [
        "grafico_predicao = px.scatter(x = df2_data[:,1], y = df2_data[:,2], color=predicao)\n",
        "grafico_cluster1 = px.scatter(x = centroid_covid[:,1], y = centroid_covid[:,2], size=[10, 10,10,10,10 ])\n",
        "grafico_cluster_final = go.Figure(data = grafico_predicao.data + grafico_cluster1.data)\n",
        "\n",
        "grafico_cluster_final.show()"
      ]
    },
    {
      "cell_type": "markdown",
      "metadata": {
        "id": "XSHh13ADfc-8"
      },
      "source": [
        "Comparação por continentes"
      ]
    },
    {
      "cell_type": "code",
      "execution_count": 25,
      "metadata": {
        "colab": {
          "base_uri": "https://localhost:8080/",
          "height": 287
        },
        "id": "JmptOlH8fb80",
        "outputId": "b7636264-bbbe-47a9-b47e-04e0b7ae731a"
      },
      "outputs": [],
      "source": [
        "query_NorthAmerica= df2.loc[df2['continent'] == 'North America' ]"
      ]
    },
    {
      "cell_type": "code",
      "execution_count": 26,
      "metadata": {
        "id": "FyoEwx8QjH2T"
      },
      "outputs": [],
      "source": [
        "listnorthamerica=query_NorthAmerica.iloc[:, [0]].values"
      ]
    },
    {
      "cell_type": "code",
      "execution_count": 27,
      "metadata": {
        "id": "j1zX7SPtqxgp"
      },
      "outputs": [],
      "source": [
        "a=listnorthamerica.tolist()\n"
      ]
    },
    {
      "cell_type": "code",
      "execution_count": 28,
      "metadata": {
        "colab": {
          "base_uri": "https://localhost:8080/",
          "height": 1000
        },
        "id": "phNszUg4gSD-",
        "outputId": "014a2046-7511-4a2f-df37-833beb8dd554"
      },
      "outputs": [
        {
          "data": {
            "text/html": [
              "<div>\n",
              "<style scoped>\n",
              "    .dataframe tbody tr th:only-of-type {\n",
              "        vertical-align: middle;\n",
              "    }\n",
              "\n",
              "    .dataframe tbody tr th {\n",
              "        vertical-align: top;\n",
              "    }\n",
              "\n",
              "    .dataframe thead th {\n",
              "        text-align: right;\n",
              "    }\n",
              "</style>\n",
              "<table border=\"1\" class=\"dataframe\">\n",
              "  <thead>\n",
              "    <tr style=\"text-align: right;\">\n",
              "      <th></th>\n",
              "      <th>country</th>\n",
              "      <th>continent</th>\n",
              "      <th>total_confirmed</th>\n",
              "      <th>total_deaths</th>\n",
              "      <th>total_recovered</th>\n",
              "      <th>active_cases</th>\n",
              "      <th>serious_or_critical</th>\n",
              "      <th>total_cases_per_1m_population</th>\n",
              "      <th>total_deaths_per_1m_population</th>\n",
              "      <th>total_tests</th>\n",
              "      <th>total_tests_per_1m_population</th>\n",
              "      <th>population</th>\n",
              "    </tr>\n",
              "  </thead>\n",
              "  <tbody>\n",
              "    <tr>\n",
              "      <th>5</th>\n",
              "      <td>Anguilla</td>\n",
              "      <td>North America</td>\n",
              "      <td>2984</td>\n",
              "      <td>9.0</td>\n",
              "      <td>2916.0</td>\n",
              "      <td>59.0</td>\n",
              "      <td>4.0</td>\n",
              "      <td>195646</td>\n",
              "      <td>590.0</td>\n",
              "      <td>5.138200e+04</td>\n",
              "      <td>3368870.0</td>\n",
              "      <td>15252</td>\n",
              "    </tr>\n",
              "    <tr>\n",
              "      <th>6</th>\n",
              "      <td>Antigua And Barbuda</td>\n",
              "      <td>North America</td>\n",
              "      <td>7721</td>\n",
              "      <td>137.0</td>\n",
              "      <td>7511.0</td>\n",
              "      <td>73.0</td>\n",
              "      <td>1.0</td>\n",
              "      <td>77646</td>\n",
              "      <td>1378.0</td>\n",
              "      <td>1.890100e+04</td>\n",
              "      <td>190076.0</td>\n",
              "      <td>99439</td>\n",
              "    </tr>\n",
              "    <tr>\n",
              "      <th>9</th>\n",
              "      <td>Aruba</td>\n",
              "      <td>North America</td>\n",
              "      <td>35693</td>\n",
              "      <td>213.0</td>\n",
              "      <td>35199.0</td>\n",
              "      <td>281.0</td>\n",
              "      <td>NaN</td>\n",
              "      <td>331689</td>\n",
              "      <td>1979.0</td>\n",
              "      <td>1.778850e+05</td>\n",
              "      <td>1653053.0</td>\n",
              "      <td>107610</td>\n",
              "    </tr>\n",
              "    <tr>\n",
              "      <th>13</th>\n",
              "      <td>Bahamas</td>\n",
              "      <td>North America</td>\n",
              "      <td>33871</td>\n",
              "      <td>801.0</td>\n",
              "      <td>32488.0</td>\n",
              "      <td>582.0</td>\n",
              "      <td>NaN</td>\n",
              "      <td>84626</td>\n",
              "      <td>2001.0</td>\n",
              "      <td>2.334730e+05</td>\n",
              "      <td>583330.0</td>\n",
              "      <td>400242</td>\n",
              "    </tr>\n",
              "    <tr>\n",
              "      <th>16</th>\n",
              "      <td>Barbados</td>\n",
              "      <td>North America</td>\n",
              "      <td>76261</td>\n",
              "      <td>433.0</td>\n",
              "      <td>71497.0</td>\n",
              "      <td>4331.0</td>\n",
              "      <td>NaN</td>\n",
              "      <td>264768</td>\n",
              "      <td>1503.0</td>\n",
              "      <td>6.694210e+05</td>\n",
              "      <td>2324136.0</td>\n",
              "      <td>288030</td>\n",
              "    </tr>\n",
              "    <tr>\n",
              "      <th>19</th>\n",
              "      <td>Belize</td>\n",
              "      <td>North America</td>\n",
              "      <td>57896</td>\n",
              "      <td>676.0</td>\n",
              "      <td>56761.0</td>\n",
              "      <td>459.0</td>\n",
              "      <td>6.0</td>\n",
              "      <td>140843</td>\n",
              "      <td>1644.0</td>\n",
              "      <td>5.492170e+05</td>\n",
              "      <td>1336070.0</td>\n",
              "      <td>411069</td>\n",
              "    </tr>\n",
              "    <tr>\n",
              "      <th>21</th>\n",
              "      <td>Bermuda</td>\n",
              "      <td>North America</td>\n",
              "      <td>14135</td>\n",
              "      <td>135.0</td>\n",
              "      <td>13664.0</td>\n",
              "      <td>336.0</td>\n",
              "      <td>NaN</td>\n",
              "      <td>228537</td>\n",
              "      <td>2183.0</td>\n",
              "      <td>8.939800e+05</td>\n",
              "      <td>14454002.0</td>\n",
              "      <td>61850</td>\n",
              "    </tr>\n",
              "    <tr>\n",
              "      <th>27</th>\n",
              "      <td>British Virgin Islands</td>\n",
              "      <td>North America</td>\n",
              "      <td>6573</td>\n",
              "      <td>62.0</td>\n",
              "      <td>NaN</td>\n",
              "      <td>NaN</td>\n",
              "      <td>1.0</td>\n",
              "      <td>214762</td>\n",
              "      <td>2026.0</td>\n",
              "      <td>1.036370e+05</td>\n",
              "      <td>3386166.0</td>\n",
              "      <td>30606</td>\n",
              "    </tr>\n",
              "    <tr>\n",
              "      <th>35</th>\n",
              "      <td>Canada</td>\n",
              "      <td>North America</td>\n",
              "      <td>3821346</td>\n",
              "      <td>40228.0</td>\n",
              "      <td>3499564.0</td>\n",
              "      <td>281554.0</td>\n",
              "      <td>423.0</td>\n",
              "      <td>99622</td>\n",
              "      <td>1049.0</td>\n",
              "      <td>6.143646e+07</td>\n",
              "      <td>1601640.0</td>\n",
              "      <td>38358465</td>\n",
              "    </tr>\n",
              "    <tr>\n",
              "      <th>36</th>\n",
              "      <td>Caribbean Netherlands</td>\n",
              "      <td>North America</td>\n",
              "      <td>9915</td>\n",
              "      <td>35.0</td>\n",
              "      <td>9829.0</td>\n",
              "      <td>51.0</td>\n",
              "      <td>NaN</td>\n",
              "      <td>371668</td>\n",
              "      <td>1312.0</td>\n",
              "      <td>3.012600e+04</td>\n",
              "      <td>1129287.0</td>\n",
              "      <td>26677</td>\n",
              "    </tr>\n",
              "    <tr>\n",
              "      <th>37</th>\n",
              "      <td>Cayman Islands</td>\n",
              "      <td>North America</td>\n",
              "      <td>23578</td>\n",
              "      <td>28.0</td>\n",
              "      <td>8553.0</td>\n",
              "      <td>14997.0</td>\n",
              "      <td>1.0</td>\n",
              "      <td>351077</td>\n",
              "      <td>417.0</td>\n",
              "      <td>2.227730e+05</td>\n",
              "      <td>3317098.0</td>\n",
              "      <td>67159</td>\n",
              "    </tr>\n",
              "    <tr>\n",
              "      <th>49</th>\n",
              "      <td>Costa Rica</td>\n",
              "      <td>North America</td>\n",
              "      <td>866164</td>\n",
              "      <td>8444.0</td>\n",
              "      <td>841683.0</td>\n",
              "      <td>16037.0</td>\n",
              "      <td>48.0</td>\n",
              "      <td>167189</td>\n",
              "      <td>1630.0</td>\n",
              "      <td>4.401922e+06</td>\n",
              "      <td>849668.0</td>\n",
              "      <td>5180753</td>\n",
              "    </tr>\n",
              "    <tr>\n",
              "      <th>52</th>\n",
              "      <td>Cuba</td>\n",
              "      <td>North America</td>\n",
              "      <td>1104589</td>\n",
              "      <td>8529.0</td>\n",
              "      <td>1095534.0</td>\n",
              "      <td>526.0</td>\n",
              "      <td>23.0</td>\n",
              "      <td>97633</td>\n",
              "      <td>754.0</td>\n",
              "      <td>1.292025e+07</td>\n",
              "      <td>1141997.0</td>\n",
              "      <td>11313741</td>\n",
              "    </tr>\n",
              "    <tr>\n",
              "      <th>53</th>\n",
              "      <td>Curacao</td>\n",
              "      <td>North America</td>\n",
              "      <td>43017</td>\n",
              "      <td>275.0</td>\n",
              "      <td>42203.0</td>\n",
              "      <td>539.0</td>\n",
              "      <td>3.0</td>\n",
              "      <td>260168</td>\n",
              "      <td>1663.0</td>\n",
              "      <td>4.966930e+05</td>\n",
              "      <td>3004016.0</td>\n",
              "      <td>165343</td>\n",
              "    </tr>\n",
              "    <tr>\n",
              "      <th>59</th>\n",
              "      <td>Dominica</td>\n",
              "      <td>North America</td>\n",
              "      <td>12685</td>\n",
              "      <td>63.0</td>\n",
              "      <td>12323.0</td>\n",
              "      <td>299.0</td>\n",
              "      <td>NaN</td>\n",
              "      <td>175403</td>\n",
              "      <td>871.0</td>\n",
              "      <td>1.948940e+05</td>\n",
              "      <td>2694921.0</td>\n",
              "      <td>72319</td>\n",
              "    </tr>\n",
              "    <tr>\n",
              "      <th>60</th>\n",
              "      <td>Dominican Republic</td>\n",
              "      <td>North America</td>\n",
              "      <td>580412</td>\n",
              "      <td>4376.0</td>\n",
              "      <td>575583.0</td>\n",
              "      <td>453.0</td>\n",
              "      <td>1.0</td>\n",
              "      <td>52524</td>\n",
              "      <td>396.0</td>\n",
              "      <td>3.305829e+06</td>\n",
              "      <td>299156.0</td>\n",
              "      <td>11050510</td>\n",
              "    </tr>\n",
              "    <tr>\n",
              "      <th>63</th>\n",
              "      <td>El Salvador</td>\n",
              "      <td>North America</td>\n",
              "      <td>162089</td>\n",
              "      <td>4129.0</td>\n",
              "      <td>150662.0</td>\n",
              "      <td>7298.0</td>\n",
              "      <td>8.0</td>\n",
              "      <td>24757</td>\n",
              "      <td>631.0</td>\n",
              "      <td>1.950448e+06</td>\n",
              "      <td>297908.0</td>\n",
              "      <td>6547158</td>\n",
              "    </tr>\n",
              "    <tr>\n",
              "      <th>82</th>\n",
              "      <td>Greenland</td>\n",
              "      <td>North America</td>\n",
              "      <td>11971</td>\n",
              "      <td>21.0</td>\n",
              "      <td>2761.0</td>\n",
              "      <td>9189.0</td>\n",
              "      <td>4.0</td>\n",
              "      <td>210191</td>\n",
              "      <td>369.0</td>\n",
              "      <td>1.649260e+05</td>\n",
              "      <td>2895826.0</td>\n",
              "      <td>56953</td>\n",
              "    </tr>\n",
              "    <tr>\n",
              "      <th>83</th>\n",
              "      <td>Grenada</td>\n",
              "      <td>North America</td>\n",
              "      <td>16344</td>\n",
              "      <td>221.0</td>\n",
              "      <td>14634.0</td>\n",
              "      <td>1489.0</td>\n",
              "      <td>4.0</td>\n",
              "      <td>144008</td>\n",
              "      <td>1947.0</td>\n",
              "      <td>1.573630e+05</td>\n",
              "      <td>1386531.0</td>\n",
              "      <td>113494</td>\n",
              "    </tr>\n",
              "    <tr>\n",
              "      <th>84</th>\n",
              "      <td>Guadeloupe</td>\n",
              "      <td>North America</td>\n",
              "      <td>140130</td>\n",
              "      <td>854.0</td>\n",
              "      <td>2250.0</td>\n",
              "      <td>137026.0</td>\n",
              "      <td>19.0</td>\n",
              "      <td>350105</td>\n",
              "      <td>2134.0</td>\n",
              "      <td>9.380390e+05</td>\n",
              "      <td>2343627.0</td>\n",
              "      <td>400251</td>\n",
              "    </tr>\n",
              "    <tr>\n",
              "      <th>85</th>\n",
              "      <td>Guatemala</td>\n",
              "      <td>North America</td>\n",
              "      <td>851877</td>\n",
              "      <td>17792.0</td>\n",
              "      <td>831794.0</td>\n",
              "      <td>2291.0</td>\n",
              "      <td>5.0</td>\n",
              "      <td>45966</td>\n",
              "      <td>960.0</td>\n",
              "      <td>4.543522e+06</td>\n",
              "      <td>245163.0</td>\n",
              "      <td>18532670</td>\n",
              "    </tr>\n",
              "    <tr>\n",
              "      <th>89</th>\n",
              "      <td>Haiti</td>\n",
              "      <td>North America</td>\n",
              "      <td>30713</td>\n",
              "      <td>835.0</td>\n",
              "      <td>29605.0</td>\n",
              "      <td>273.0</td>\n",
              "      <td>NaN</td>\n",
              "      <td>2634</td>\n",
              "      <td>72.0</td>\n",
              "      <td>1.324220e+05</td>\n",
              "      <td>11356.0</td>\n",
              "      <td>11661401</td>\n",
              "    </tr>\n",
              "    <tr>\n",
              "      <th>91</th>\n",
              "      <td>Honduras</td>\n",
              "      <td>North America</td>\n",
              "      <td>424390</td>\n",
              "      <td>10896.0</td>\n",
              "      <td>132358.0</td>\n",
              "      <td>281136.0</td>\n",
              "      <td>105.0</td>\n",
              "      <td>41615</td>\n",
              "      <td>1068.0</td>\n",
              "      <td>1.365056e+06</td>\n",
              "      <td>133856.0</td>\n",
              "      <td>10197959</td>\n",
              "    </tr>\n",
              "    <tr>\n",
              "      <th>102</th>\n",
              "      <td>Jamaica</td>\n",
              "      <td>North America</td>\n",
              "      <td>131980</td>\n",
              "      <td>2995.0</td>\n",
              "      <td>84883.0</td>\n",
              "      <td>44102.0</td>\n",
              "      <td>NaN</td>\n",
              "      <td>44211</td>\n",
              "      <td>1003.0</td>\n",
              "      <td>1.031235e+06</td>\n",
              "      <td>345445.0</td>\n",
              "      <td>2985238</td>\n",
              "    </tr>\n",
              "    <tr>\n",
              "      <th>127</th>\n",
              "      <td>Martinique</td>\n",
              "      <td>North America</td>\n",
              "      <td>153253</td>\n",
              "      <td>926.0</td>\n",
              "      <td>104.0</td>\n",
              "      <td>152223.0</td>\n",
              "      <td>8.0</td>\n",
              "      <td>408977</td>\n",
              "      <td>2471.0</td>\n",
              "      <td>8.289280e+05</td>\n",
              "      <td>2212109.0</td>\n",
              "      <td>374723</td>\n",
              "    </tr>\n",
              "    <tr>\n",
              "      <th>131</th>\n",
              "      <td>Mexico</td>\n",
              "      <td>North America</td>\n",
              "      <td>5745652</td>\n",
              "      <td>324465.0</td>\n",
              "      <td>5044893.0</td>\n",
              "      <td>376294.0</td>\n",
              "      <td>4798.0</td>\n",
              "      <td>43708</td>\n",
              "      <td>2468.0</td>\n",
              "      <td>1.585549e+07</td>\n",
              "      <td>120615.0</td>\n",
              "      <td>131455607</td>\n",
              "    </tr>\n",
              "    <tr>\n",
              "      <th>137</th>\n",
              "      <td>Montserrat</td>\n",
              "      <td>North America</td>\n",
              "      <td>747</td>\n",
              "      <td>2.0</td>\n",
              "      <td>390.0</td>\n",
              "      <td>355.0</td>\n",
              "      <td>NaN</td>\n",
              "      <td>149460</td>\n",
              "      <td>400.0</td>\n",
              "      <td>1.123800e+04</td>\n",
              "      <td>2248499.0</td>\n",
              "      <td>4998</td>\n",
              "    </tr>\n",
              "    <tr>\n",
              "      <th>147</th>\n",
              "      <td>Nicaragua</td>\n",
              "      <td>North America</td>\n",
              "      <td>18491</td>\n",
              "      <td>225.0</td>\n",
              "      <td>4225.0</td>\n",
              "      <td>14041.0</td>\n",
              "      <td>NaN</td>\n",
              "      <td>2731</td>\n",
              "      <td>33.0</td>\n",
              "      <td>NaN</td>\n",
              "      <td>NaN</td>\n",
              "      <td>6771338</td>\n",
              "    </tr>\n",
              "    <tr>\n",
              "      <th>155</th>\n",
              "      <td>Panama</td>\n",
              "      <td>North America</td>\n",
              "      <td>806277</td>\n",
              "      <td>8203.0</td>\n",
              "      <td>773421.0</td>\n",
              "      <td>24653.0</td>\n",
              "      <td>16.0</td>\n",
              "      <td>181543</td>\n",
              "      <td>1847.0</td>\n",
              "      <td>6.019923e+06</td>\n",
              "      <td>1355456.0</td>\n",
              "      <td>4441253</td>\n",
              "    </tr>\n",
              "    <tr>\n",
              "      <th>167</th>\n",
              "      <td>Saint Barthelemy</td>\n",
              "      <td>North America</td>\n",
              "      <td>4611</td>\n",
              "      <td>6.0</td>\n",
              "      <td>NaN</td>\n",
              "      <td>NaN</td>\n",
              "      <td>NaN</td>\n",
              "      <td>464210</td>\n",
              "      <td>604.0</td>\n",
              "      <td>7.864600e+04</td>\n",
              "      <td>7917648.0</td>\n",
              "      <td>9933</td>\n",
              "    </tr>\n",
              "    <tr>\n",
              "      <th>169</th>\n",
              "      <td>Saint Kitts And Nevis</td>\n",
              "      <td>North America</td>\n",
              "      <td>5605</td>\n",
              "      <td>43.0</td>\n",
              "      <td>5547.0</td>\n",
              "      <td>15.0</td>\n",
              "      <td>NaN</td>\n",
              "      <td>103989</td>\n",
              "      <td>798.0</td>\n",
              "      <td>7.070700e+04</td>\n",
              "      <td>1311818.0</td>\n",
              "      <td>53900</td>\n",
              "    </tr>\n",
              "    <tr>\n",
              "      <th>170</th>\n",
              "      <td>Saint Lucia</td>\n",
              "      <td>North America</td>\n",
              "      <td>24267</td>\n",
              "      <td>368.0</td>\n",
              "      <td>23277.0</td>\n",
              "      <td>622.0</td>\n",
              "      <td>1.0</td>\n",
              "      <td>131038</td>\n",
              "      <td>1987.0</td>\n",
              "      <td>1.432810e+05</td>\n",
              "      <td>773697.0</td>\n",
              "      <td>185190</td>\n",
              "    </tr>\n",
              "    <tr>\n",
              "      <th>171</th>\n",
              "      <td>Saint Martin</td>\n",
              "      <td>North America</td>\n",
              "      <td>10602</td>\n",
              "      <td>63.0</td>\n",
              "      <td>1399.0</td>\n",
              "      <td>9140.0</td>\n",
              "      <td>7.0</td>\n",
              "      <td>265754</td>\n",
              "      <td>1579.0</td>\n",
              "      <td>1.123820e+05</td>\n",
              "      <td>2817015.0</td>\n",
              "      <td>39894</td>\n",
              "    </tr>\n",
              "    <tr>\n",
              "      <th>172</th>\n",
              "      <td>Saint Pierre And Miquelon</td>\n",
              "      <td>North America</td>\n",
              "      <td>2739</td>\n",
              "      <td>1.0</td>\n",
              "      <td>2449.0</td>\n",
              "      <td>289.0</td>\n",
              "      <td>1.0</td>\n",
              "      <td>477095</td>\n",
              "      <td>174.0</td>\n",
              "      <td>2.368700e+04</td>\n",
              "      <td>4125936.0</td>\n",
              "      <td>5741</td>\n",
              "    </tr>\n",
              "    <tr>\n",
              "      <th>173</th>\n",
              "      <td>Saint Vincent And The Grenadines</td>\n",
              "      <td>North America</td>\n",
              "      <td>6799</td>\n",
              "      <td>106.0</td>\n",
              "      <td>6641.0</td>\n",
              "      <td>52.0</td>\n",
              "      <td>NaN</td>\n",
              "      <td>60925</td>\n",
              "      <td>950.0</td>\n",
              "      <td>9.913800e+04</td>\n",
              "      <td>888365.0</td>\n",
              "      <td>111596</td>\n",
              "    </tr>\n",
              "    <tr>\n",
              "      <th>183</th>\n",
              "      <td>Sint Maarten</td>\n",
              "      <td>North America</td>\n",
              "      <td>10123</td>\n",
              "      <td>86.0</td>\n",
              "      <td>9985.0</td>\n",
              "      <td>52.0</td>\n",
              "      <td>10.0</td>\n",
              "      <td>231208</td>\n",
              "      <td>1964.0</td>\n",
              "      <td>6.205600e+04</td>\n",
              "      <td>1417354.0</td>\n",
              "      <td>43783</td>\n",
              "    </tr>\n",
              "    <tr>\n",
              "      <th>207</th>\n",
              "      <td>Trinidad And Tobago</td>\n",
              "      <td>North America</td>\n",
              "      <td>154643</td>\n",
              "      <td>3871.0</td>\n",
              "      <td>141354.0</td>\n",
              "      <td>9418.0</td>\n",
              "      <td>18.0</td>\n",
              "      <td>109837</td>\n",
              "      <td>2749.0</td>\n",
              "      <td>7.262180e+05</td>\n",
              "      <td>515806.0</td>\n",
              "      <td>1407928</td>\n",
              "    </tr>\n",
              "    <tr>\n",
              "      <th>210</th>\n",
              "      <td>Turks And Caicos Islands</td>\n",
              "      <td>North America</td>\n",
              "      <td>6046</td>\n",
              "      <td>36.0</td>\n",
              "      <td>5963.0</td>\n",
              "      <td>47.0</td>\n",
              "      <td>4.0</td>\n",
              "      <td>152323</td>\n",
              "      <td>907.0</td>\n",
              "      <td>5.053540e+05</td>\n",
              "      <td>12731886.0</td>\n",
              "      <td>39692</td>\n",
              "    </tr>\n",
              "    <tr>\n",
              "      <th>216</th>\n",
              "      <td>USA</td>\n",
              "      <td>North America</td>\n",
              "      <td>84209473</td>\n",
              "      <td>1026646.0</td>\n",
              "      <td>81244260.0</td>\n",
              "      <td>1938567.0</td>\n",
              "      <td>1941.0</td>\n",
              "      <td>251659</td>\n",
              "      <td>3068.0</td>\n",
              "      <td>1.016883e+09</td>\n",
              "      <td>3038939.0</td>\n",
              "      <td>334617623</td>\n",
              "    </tr>\n",
              "  </tbody>\n",
              "</table>\n",
              "</div>"
            ],
            "text/plain": [
              "                              country      continent  total_confirmed  \\\n",
              "5                            Anguilla  North America             2984   \n",
              "6                 Antigua And Barbuda  North America             7721   \n",
              "9                               Aruba  North America            35693   \n",
              "13                            Bahamas  North America            33871   \n",
              "16                           Barbados  North America            76261   \n",
              "19                             Belize  North America            57896   \n",
              "21                            Bermuda  North America            14135   \n",
              "27             British Virgin Islands  North America             6573   \n",
              "35                             Canada  North America          3821346   \n",
              "36              Caribbean Netherlands  North America             9915   \n",
              "37                     Cayman Islands  North America            23578   \n",
              "49                         Costa Rica  North America           866164   \n",
              "52                               Cuba  North America          1104589   \n",
              "53                            Curacao  North America            43017   \n",
              "59                           Dominica  North America            12685   \n",
              "60                 Dominican Republic  North America           580412   \n",
              "63                        El Salvador  North America           162089   \n",
              "82                          Greenland  North America            11971   \n",
              "83                            Grenada  North America            16344   \n",
              "84                         Guadeloupe  North America           140130   \n",
              "85                          Guatemala  North America           851877   \n",
              "89                              Haiti  North America            30713   \n",
              "91                           Honduras  North America           424390   \n",
              "102                           Jamaica  North America           131980   \n",
              "127                        Martinique  North America           153253   \n",
              "131                            Mexico  North America          5745652   \n",
              "137                        Montserrat  North America              747   \n",
              "147                         Nicaragua  North America            18491   \n",
              "155                            Panama  North America           806277   \n",
              "167                  Saint Barthelemy  North America             4611   \n",
              "169             Saint Kitts And Nevis  North America             5605   \n",
              "170                       Saint Lucia  North America            24267   \n",
              "171                      Saint Martin  North America            10602   \n",
              "172         Saint Pierre And Miquelon  North America             2739   \n",
              "173  Saint Vincent And The Grenadines  North America             6799   \n",
              "183                      Sint Maarten  North America            10123   \n",
              "207               Trinidad And Tobago  North America           154643   \n",
              "210          Turks And Caicos Islands  North America             6046   \n",
              "216                               USA  North America         84209473   \n",
              "\n",
              "     total_deaths  total_recovered  active_cases  serious_or_critical  \\\n",
              "5             9.0           2916.0          59.0                  4.0   \n",
              "6           137.0           7511.0          73.0                  1.0   \n",
              "9           213.0          35199.0         281.0                  NaN   \n",
              "13          801.0          32488.0         582.0                  NaN   \n",
              "16          433.0          71497.0        4331.0                  NaN   \n",
              "19          676.0          56761.0         459.0                  6.0   \n",
              "21          135.0          13664.0         336.0                  NaN   \n",
              "27           62.0              NaN           NaN                  1.0   \n",
              "35        40228.0        3499564.0      281554.0                423.0   \n",
              "36           35.0           9829.0          51.0                  NaN   \n",
              "37           28.0           8553.0       14997.0                  1.0   \n",
              "49         8444.0         841683.0       16037.0                 48.0   \n",
              "52         8529.0        1095534.0         526.0                 23.0   \n",
              "53          275.0          42203.0         539.0                  3.0   \n",
              "59           63.0          12323.0         299.0                  NaN   \n",
              "60         4376.0         575583.0         453.0                  1.0   \n",
              "63         4129.0         150662.0        7298.0                  8.0   \n",
              "82           21.0           2761.0        9189.0                  4.0   \n",
              "83          221.0          14634.0        1489.0                  4.0   \n",
              "84          854.0           2250.0      137026.0                 19.0   \n",
              "85        17792.0         831794.0        2291.0                  5.0   \n",
              "89          835.0          29605.0         273.0                  NaN   \n",
              "91        10896.0         132358.0      281136.0                105.0   \n",
              "102        2995.0          84883.0       44102.0                  NaN   \n",
              "127         926.0            104.0      152223.0                  8.0   \n",
              "131      324465.0        5044893.0      376294.0               4798.0   \n",
              "137           2.0            390.0         355.0                  NaN   \n",
              "147         225.0           4225.0       14041.0                  NaN   \n",
              "155        8203.0         773421.0       24653.0                 16.0   \n",
              "167           6.0              NaN           NaN                  NaN   \n",
              "169          43.0           5547.0          15.0                  NaN   \n",
              "170         368.0          23277.0         622.0                  1.0   \n",
              "171          63.0           1399.0        9140.0                  7.0   \n",
              "172           1.0           2449.0         289.0                  1.0   \n",
              "173         106.0           6641.0          52.0                  NaN   \n",
              "183          86.0           9985.0          52.0                 10.0   \n",
              "207        3871.0         141354.0        9418.0                 18.0   \n",
              "210          36.0           5963.0          47.0                  4.0   \n",
              "216     1026646.0       81244260.0     1938567.0               1941.0   \n",
              "\n",
              "     total_cases_per_1m_population  total_deaths_per_1m_population  \\\n",
              "5                           195646                           590.0   \n",
              "6                            77646                          1378.0   \n",
              "9                           331689                          1979.0   \n",
              "13                           84626                          2001.0   \n",
              "16                          264768                          1503.0   \n",
              "19                          140843                          1644.0   \n",
              "21                          228537                          2183.0   \n",
              "27                          214762                          2026.0   \n",
              "35                           99622                          1049.0   \n",
              "36                          371668                          1312.0   \n",
              "37                          351077                           417.0   \n",
              "49                          167189                          1630.0   \n",
              "52                           97633                           754.0   \n",
              "53                          260168                          1663.0   \n",
              "59                          175403                           871.0   \n",
              "60                           52524                           396.0   \n",
              "63                           24757                           631.0   \n",
              "82                          210191                           369.0   \n",
              "83                          144008                          1947.0   \n",
              "84                          350105                          2134.0   \n",
              "85                           45966                           960.0   \n",
              "89                            2634                            72.0   \n",
              "91                           41615                          1068.0   \n",
              "102                          44211                          1003.0   \n",
              "127                         408977                          2471.0   \n",
              "131                          43708                          2468.0   \n",
              "137                         149460                           400.0   \n",
              "147                           2731                            33.0   \n",
              "155                         181543                          1847.0   \n",
              "167                         464210                           604.0   \n",
              "169                         103989                           798.0   \n",
              "170                         131038                          1987.0   \n",
              "171                         265754                          1579.0   \n",
              "172                         477095                           174.0   \n",
              "173                          60925                           950.0   \n",
              "183                         231208                          1964.0   \n",
              "207                         109837                          2749.0   \n",
              "210                         152323                           907.0   \n",
              "216                         251659                          3068.0   \n",
              "\n",
              "      total_tests  total_tests_per_1m_population  population  \n",
              "5    5.138200e+04                      3368870.0       15252  \n",
              "6    1.890100e+04                       190076.0       99439  \n",
              "9    1.778850e+05                      1653053.0      107610  \n",
              "13   2.334730e+05                       583330.0      400242  \n",
              "16   6.694210e+05                      2324136.0      288030  \n",
              "19   5.492170e+05                      1336070.0      411069  \n",
              "21   8.939800e+05                     14454002.0       61850  \n",
              "27   1.036370e+05                      3386166.0       30606  \n",
              "35   6.143646e+07                      1601640.0    38358465  \n",
              "36   3.012600e+04                      1129287.0       26677  \n",
              "37   2.227730e+05                      3317098.0       67159  \n",
              "49   4.401922e+06                       849668.0     5180753  \n",
              "52   1.292025e+07                      1141997.0    11313741  \n",
              "53   4.966930e+05                      3004016.0      165343  \n",
              "59   1.948940e+05                      2694921.0       72319  \n",
              "60   3.305829e+06                       299156.0    11050510  \n",
              "63   1.950448e+06                       297908.0     6547158  \n",
              "82   1.649260e+05                      2895826.0       56953  \n",
              "83   1.573630e+05                      1386531.0      113494  \n",
              "84   9.380390e+05                      2343627.0      400251  \n",
              "85   4.543522e+06                       245163.0    18532670  \n",
              "89   1.324220e+05                        11356.0    11661401  \n",
              "91   1.365056e+06                       133856.0    10197959  \n",
              "102  1.031235e+06                       345445.0     2985238  \n",
              "127  8.289280e+05                      2212109.0      374723  \n",
              "131  1.585549e+07                       120615.0   131455607  \n",
              "137  1.123800e+04                      2248499.0        4998  \n",
              "147           NaN                            NaN     6771338  \n",
              "155  6.019923e+06                      1355456.0     4441253  \n",
              "167  7.864600e+04                      7917648.0        9933  \n",
              "169  7.070700e+04                      1311818.0       53900  \n",
              "170  1.432810e+05                       773697.0      185190  \n",
              "171  1.123820e+05                      2817015.0       39894  \n",
              "172  2.368700e+04                      4125936.0        5741  \n",
              "173  9.913800e+04                       888365.0      111596  \n",
              "183  6.205600e+04                      1417354.0       43783  \n",
              "207  7.262180e+05                       515806.0     1407928  \n",
              "210  5.053540e+05                     12731886.0       39692  \n",
              "216  1.016883e+09                      3038939.0   334617623  "
            ]
          },
          "execution_count": 28,
          "metadata": {},
          "output_type": "execute_result"
        }
      ],
      "source": [
        "query_NorthAmerica"
      ]
    },
    {
      "cell_type": "code",
      "execution_count": null,
      "metadata": {
        "colab": {
          "base_uri": "https://localhost:8080/",
          "height": 311
        },
        "id": "-XGpQRmHqGd7",
        "outputId": "21ffa27c-5a15-47a8-d8bd-38364d62aa78"
      },
      "outputs": [
        {
          "ename": "TypeError",
          "evalue": "ignored",
          "output_type": "error",
          "traceback": [
            "\u001b[0;31m---------------------------------------------------------------------------\u001b[0m",
            "\u001b[0;31mTypeError\u001b[0m                                 Traceback (most recent call last)",
            "\u001b[0;32m<ipython-input-68-182f39c2eb86>\u001b[0m in \u001b[0;36m<module>\u001b[0;34m()\u001b[0m\n\u001b[0;32m----> 1\u001b[0;31m \u001b[0mnorthamericalistdate\u001b[0m\u001b[0;34m=\u001b[0m \u001b[0mdf\u001b[0m\u001b[0;34m.\u001b[0m\u001b[0mfilter\u001b[0m\u001b[0;34m(\u001b[0m\u001b[0mitems\u001b[0m\u001b[0;34m=\u001b[0m\u001b[0ma\u001b[0m\u001b[0;34m)\u001b[0m\u001b[0;34m\u001b[0m\u001b[0;34m\u001b[0m\u001b[0m\n\u001b[0m",
            "\u001b[0;32m/usr/local/lib/python3.7/dist-packages/pandas/core/generic.py\u001b[0m in \u001b[0;36mfilter\u001b[0;34m(self, items, like, regex, axis)\u001b[0m\n\u001b[1;32m   4980\u001b[0m         \u001b[0;32mif\u001b[0m \u001b[0mitems\u001b[0m \u001b[0;32mis\u001b[0m \u001b[0;32mnot\u001b[0m \u001b[0;32mNone\u001b[0m\u001b[0;34m:\u001b[0m\u001b[0;34m\u001b[0m\u001b[0;34m\u001b[0m\u001b[0m\n\u001b[1;32m   4981\u001b[0m             \u001b[0mname\u001b[0m \u001b[0;34m=\u001b[0m \u001b[0mself\u001b[0m\u001b[0;34m.\u001b[0m\u001b[0m_get_axis_name\u001b[0m\u001b[0;34m(\u001b[0m\u001b[0maxis\u001b[0m\u001b[0;34m)\u001b[0m\u001b[0;34m\u001b[0m\u001b[0;34m\u001b[0m\u001b[0m\n\u001b[0;32m-> 4982\u001b[0;31m             \u001b[0;32mreturn\u001b[0m \u001b[0mself\u001b[0m\u001b[0;34m.\u001b[0m\u001b[0mreindex\u001b[0m\u001b[0;34m(\u001b[0m\u001b[0;34m**\u001b[0m\u001b[0;34m{\u001b[0m\u001b[0mname\u001b[0m\u001b[0;34m:\u001b[0m \u001b[0;34m[\u001b[0m\u001b[0mr\u001b[0m \u001b[0;32mfor\u001b[0m \u001b[0mr\u001b[0m \u001b[0;32min\u001b[0m \u001b[0mitems\u001b[0m \u001b[0;32mif\u001b[0m \u001b[0mr\u001b[0m \u001b[0;32min\u001b[0m \u001b[0mlabels\u001b[0m\u001b[0;34m]\u001b[0m\u001b[0;34m}\u001b[0m\u001b[0;34m)\u001b[0m\u001b[0;34m\u001b[0m\u001b[0;34m\u001b[0m\u001b[0m\n\u001b[0m\u001b[1;32m   4983\u001b[0m         \u001b[0;32melif\u001b[0m \u001b[0mlike\u001b[0m\u001b[0;34m:\u001b[0m\u001b[0;34m\u001b[0m\u001b[0;34m\u001b[0m\u001b[0m\n\u001b[1;32m   4984\u001b[0m \u001b[0;34m\u001b[0m\u001b[0m\n",
            "\u001b[0;32m/usr/local/lib/python3.7/dist-packages/pandas/core/generic.py\u001b[0m in \u001b[0;36m<listcomp>\u001b[0;34m(.0)\u001b[0m\n\u001b[1;32m   4980\u001b[0m         \u001b[0;32mif\u001b[0m \u001b[0mitems\u001b[0m \u001b[0;32mis\u001b[0m \u001b[0;32mnot\u001b[0m \u001b[0;32mNone\u001b[0m\u001b[0;34m:\u001b[0m\u001b[0;34m\u001b[0m\u001b[0;34m\u001b[0m\u001b[0m\n\u001b[1;32m   4981\u001b[0m             \u001b[0mname\u001b[0m \u001b[0;34m=\u001b[0m \u001b[0mself\u001b[0m\u001b[0;34m.\u001b[0m\u001b[0m_get_axis_name\u001b[0m\u001b[0;34m(\u001b[0m\u001b[0maxis\u001b[0m\u001b[0;34m)\u001b[0m\u001b[0;34m\u001b[0m\u001b[0;34m\u001b[0m\u001b[0m\n\u001b[0;32m-> 4982\u001b[0;31m             \u001b[0;32mreturn\u001b[0m \u001b[0mself\u001b[0m\u001b[0;34m.\u001b[0m\u001b[0mreindex\u001b[0m\u001b[0;34m(\u001b[0m\u001b[0;34m**\u001b[0m\u001b[0;34m{\u001b[0m\u001b[0mname\u001b[0m\u001b[0;34m:\u001b[0m \u001b[0;34m[\u001b[0m\u001b[0mr\u001b[0m \u001b[0;32mfor\u001b[0m \u001b[0mr\u001b[0m \u001b[0;32min\u001b[0m \u001b[0mitems\u001b[0m \u001b[0;32mif\u001b[0m \u001b[0mr\u001b[0m \u001b[0;32min\u001b[0m \u001b[0mlabels\u001b[0m\u001b[0;34m]\u001b[0m\u001b[0;34m}\u001b[0m\u001b[0;34m)\u001b[0m\u001b[0;34m\u001b[0m\u001b[0;34m\u001b[0m\u001b[0m\n\u001b[0m\u001b[1;32m   4983\u001b[0m         \u001b[0;32melif\u001b[0m \u001b[0mlike\u001b[0m\u001b[0;34m:\u001b[0m\u001b[0;34m\u001b[0m\u001b[0;34m\u001b[0m\u001b[0m\n\u001b[1;32m   4984\u001b[0m \u001b[0;34m\u001b[0m\u001b[0m\n",
            "\u001b[0;32m/usr/local/lib/python3.7/dist-packages/pandas/core/indexes/base.py\u001b[0m in \u001b[0;36m__contains__\u001b[0;34m(self, key)\u001b[0m\n\u001b[1;32m   4570\u001b[0m         \u001b[0;32mFalse\u001b[0m\u001b[0;34m\u001b[0m\u001b[0;34m\u001b[0m\u001b[0m\n\u001b[1;32m   4571\u001b[0m         \"\"\"\n\u001b[0;32m-> 4572\u001b[0;31m         \u001b[0mhash\u001b[0m\u001b[0;34m(\u001b[0m\u001b[0mkey\u001b[0m\u001b[0;34m)\u001b[0m\u001b[0;34m\u001b[0m\u001b[0;34m\u001b[0m\u001b[0m\n\u001b[0m\u001b[1;32m   4573\u001b[0m         \u001b[0;32mtry\u001b[0m\u001b[0;34m:\u001b[0m\u001b[0;34m\u001b[0m\u001b[0;34m\u001b[0m\u001b[0m\n\u001b[1;32m   4574\u001b[0m             \u001b[0;32mreturn\u001b[0m \u001b[0mkey\u001b[0m \u001b[0;32min\u001b[0m \u001b[0mself\u001b[0m\u001b[0;34m.\u001b[0m\u001b[0m_engine\u001b[0m\u001b[0;34m\u001b[0m\u001b[0;34m\u001b[0m\u001b[0m\n",
            "\u001b[0;31mTypeError\u001b[0m: unhashable type: 'list'"
          ]
        }
      ],
      "source": [
        "northamericalistdate= df.filter(items=a)"
      ]
    },
    {
      "cell_type": "code",
      "execution_count": 29,
      "metadata": {
        "id": "WbtA9NJsaSbl"
      },
      "outputs": [],
      "source": [
        "query_Brazil= df.loc[df['country'] == 'Brazil']"
      ]
    },
    {
      "cell_type": "markdown",
      "metadata": {
        "id": "z0sLdYfvexmk"
      },
      "source": [
        "Novos casos no Brasil por dia"
      ]
    },
    {
      "cell_type": "code",
      "execution_count": null,
      "metadata": {
        "colab": {
          "base_uri": "https://localhost:8080/",
          "height": 654
        },
        "id": "gi-eh21LdTmU",
        "outputId": "af5fded7-474d-4e91-8df5-126cb6a846db"
      },
      "outputs": [
        {
          "data": {
            "text/plain": [
              "<matplotlib.axes._subplots.AxesSubplot at 0x7f06f199b8d0>"
            ]
          },
          "execution_count": 42,
          "metadata": {},
          "output_type": "execute_result"
        },
        {
          "data": {
            "image/png": "[encoded data removed]",
            "text/plain": [
              "<Figure size 2160x720 with 1 Axes>"
            ]
          },
          "metadata": {
            "needs_background": "light"
          },
          "output_type": "display_data"
        }
      ],
      "source": [
        "query_Brazil.plot(kind=\"bar\", y=\"daily_new_cases\",figsize=(30,10))"
      ]
    }
  ],
  "metadata": {
    "colab": {
      "name": "prova2.ipynb",
      "provenance": []
    },
    "interpreter": {
      "hash": "52fef9f371462526e6c16fbedf2b5b9bc32d90752958a415cf9672d41d7c1c70"
    },
    "kernelspec": {
      "display_name": "Python 3.9.13 64-bit (windows store)",
      "language": "python",
      "name": "python3"
    },
    "language_info": {
      "codemirror_mode": {
        "name": "ipython",
        "version": 3
      },
      "file_extension": ".py",
      "mimetype": "text/x-python",
      "name": "python",
      "nbconvert_exporter": "python",
      "pygments_lexer": "ipython3",
      "version": "3.9.13"
    },
    "orig_nbformat": 4
  },
  "nbformat": 4,
  "nbformat_minor": 0
}
